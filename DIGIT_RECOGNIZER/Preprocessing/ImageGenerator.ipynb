{
 "cells": [
  {
   "cell_type": "code",
   "execution_count": 1,
   "metadata": {},
   "outputs": [
    {
     "name": "stderr",
     "output_type": "stream",
     "text": [
      "Using TensorFlow backend.\n"
     ]
    }
   ],
   "source": [
    "from keras.preprocessing.image import ImageDataGenerator, array_to_img, img_to_array, load_img\n",
    "import os"
   ]
  },
  {
   "cell_type": "markdown",
   "metadata": {},
   "source": [
    "# DATAAUGMENTATION TEST TEST"
   ]
  },
  {
   "cell_type": "code",
   "execution_count": 5,
   "metadata": {},
   "outputs": [],
   "source": [
    "datagen = ImageDataGenerator(rotation_range=10,\n",
    "                            width_shift_range=0.1,\n",
    "                            height_shift_range=0.1,\n",
    "                            shear_range=0.2,\n",
    "                            zoom_range=0.2,\n",
    "                            brightness_range=(0.4,0.7),\n",
    "                            horizontal_flip=True,\n",
    "                            vertical_flip=False,\n",
    "                            fill_mode='nearest')\n",
    "Classes = os.listdir(\"C:/Users/ENES DORUK/Desktop/CNN_Harf/Dataset/test_set/\")\n",
    "for i in range(len(Classes)):\n",
    "    Images = os.listdir(\"C:/Users/ENES DORUK/Desktop/CNN_Harf/Dataset/test_set/{}\".format(i))\n",
    "    for j in range(len(Images)):\n",
    "        img = load_img(\"C:/Users/ENES DORUK/Desktop/CNN_Harf/Dataset/test_set/{}/{}\".format(i,Images[j]))\n",
    "        x = img_to_array(img)\n",
    "        x = x.reshape((1,) + x.shape)\n",
    "        q=0\n",
    "    \n",
    "        for batch in datagen.flow(x, batch_size=3, \n",
    "                                 save_to_dir=\"C:/Users/ENES DORUK/Desktop/CNN_Harf/Dataset/test_set/{}/\".format(i),\n",
    "                                 save_format=\"jpg\"):\n",
    "            q +=1\n",
    "            if q == 20:\n",
    "                break"
   ]
  },
  {
   "cell_type": "markdown",
   "metadata": {},
   "source": [
    "# DATAAUGMENTATION VALIDATION TEST"
   ]
  },
  {
   "cell_type": "code",
   "execution_count": 6,
   "metadata": {},
   "outputs": [],
   "source": [
    "datagen = ImageDataGenerator(rotation_range=20,\n",
    "                            width_shift_range=0.1,\n",
    "                            height_shift_range=0.1,\n",
    "                            shear_range=0.4,\n",
    "                            zoom_range=0.3,\n",
    "                            brightness_range=(0.4,0.7),\n",
    "                            horizontal_flip=True,\n",
    "                            vertical_flip=True,\n",
    "                            fill_mode='nearest')\n",
    "Classes = os.listdir(\"C:/Users/ENES DORUK/Desktop/CNN_Harf/Dataset/validation_set/\")\n",
    "for i in range(len(Classes)):\n",
    "    Images = os.listdir(\"C:/Users/ENES DORUK/Desktop/CNN_Harf/Dataset/validation_set/{}\".format(i))\n",
    "    for j in range(len(Images)):\n",
    "        img = load_img(\"C:/Users/ENES DORUK/Desktop/CNN_Harf/Dataset/validation_set/{}/{}\".format(i,Images[j]))\n",
    "        x = img_to_array(img)\n",
    "        x = x.reshape((1,) + x.shape)\n",
    "        q=0\n",
    "    \n",
    "        for batch in datagen.flow(x, batch_size=3, \n",
    "                                 save_to_dir=\"C:/Users/ENES DORUK/Desktop/CNN_Harf/Dataset/validation_set/{}/\".format(i),\n",
    "                                 save_format=\"jpg\"):\n",
    "            q +=1\n",
    "            if q == 20:\n",
    "                break"
   ]
  },
  {
   "cell_type": "markdown",
   "metadata": {},
   "source": [
    "# DATAAUGMENTATION TRAINING TEST"
   ]
  },
  {
   "cell_type": "code",
   "execution_count": 7,
   "metadata": {},
   "outputs": [],
   "source": [
    "datagen = ImageDataGenerator(rotation_range=20,\n",
    "                            width_shift_range=0.1,\n",
    "                            height_shift_range=0.1,\n",
    "                            shear_range=0.2,\n",
    "                            zoom_range=0.1,\n",
    "                            brightness_range=(0.4,0.7),\n",
    "                            horizontal_flip=False,\n",
    "                            vertical_flip=False,\n",
    "                            fill_mode='nearest')\n",
    "Classes = os.listdir(\"C:/Users/ENES DORUK/Desktop/CNN_Harf/Dataset/training_set/\")\n",
    "for i in range(len(Classes)):\n",
    "    Images = os.listdir(\"C:/Users/ENES DORUK/Desktop/CNN_Harf/Dataset/training_set/{}\".format(i))\n",
    "    for j in range(len(Images)):\n",
    "        img = load_img(\"C:/Users/ENES DORUK/Desktop/CNN_Harf/Dataset/training_set/{}/{}\".format(i,Images[j]))\n",
    "        x = img_to_array(img)\n",
    "        x = x.reshape((1,) + x.shape)\n",
    "        q=0\n",
    "    \n",
    "        for batch in datagen.flow(x, batch_size=3, \n",
    "                                 save_to_dir=\"C:/Users/ENES DORUK/Desktop/CNN_Harf/Dataset/training_set/{}/\".format(i),\n",
    "                                 save_format=\"jpg\"):\n",
    "            q +=1\n",
    "            if q == 20:\n",
    "                break"
   ]
  }
 ],
 "metadata": {
  "kernelspec": {
   "display_name": "Python 3",
   "language": "python",
   "name": "python3"
  },
  "language_info": {
   "codemirror_mode": {
    "name": "ipython",
    "version": 3
   },
   "file_extension": ".py",
   "mimetype": "text/x-python",
   "name": "python",
   "nbconvert_exporter": "python",
   "pygments_lexer": "ipython3",
   "version": "3.7.4"
  }
 },
 "nbformat": 4,
 "nbformat_minor": 2
}
