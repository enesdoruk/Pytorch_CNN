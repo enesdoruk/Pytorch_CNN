{
 "cells": [
  {
   "cell_type": "code",
   "execution_count": 2,
   "metadata": {},
   "outputs": [],
   "source": [
    "import os \n",
    "import cv2\n",
    "import numpy as np\n"
   ]
  },
  {
   "cell_type": "markdown",
   "metadata": {},
   "source": [
    "# ERODE  FILTERING"
   ]
  },
  {
   "cell_type": "markdown",
   "metadata": {},
   "source": [
    "TEST"
   ]
  },
  {
   "cell_type": "code",
   "execution_count": 5,
   "metadata": {},
   "outputs": [],
   "source": [
    "x = 1000\n",
    "Classes = os.listdir(\"C:/Users/ENES DORUK/Desktop/CNN_Harf/Dataset/test_set/\")\n",
    "for i in range(len(Classes)):\n",
    "    Images = os.listdir(\"C:/Users/ENES DORUK/Desktop/CNN_Harf/Dataset/test_set/{}\".format(i))\n",
    "    for j in range(100):\n",
    "        img = cv2.imread(\"C:/Users/ENES DORUK/Desktop/CNN_Harf/Dataset/test_set/{}/{}\".format(i,Images[j]), cv2.IMREAD_UNCHANGED)\n",
    "        x += 1\n",
    "        for k in range(1,5):\n",
    "            kernel = np.ones((k,k),np.uint8)\n",
    "            for l in range(1,5):\n",
    "                newImg = cv2.erode(img,kernel,iterations = l)\n",
    "                cv2.imwrite(\"C:/Users/ENES DORUK/Desktop/CNN_Harf/Dataset/test_set/{}/x{}.jpg\".format(i,x),newImg)"
   ]
  },
  {
   "cell_type": "markdown",
   "metadata": {},
   "source": [
    "TRAINING"
   ]
  },
  {
   "cell_type": "code",
   "execution_count": 6,
   "metadata": {},
   "outputs": [],
   "source": [
    "x = 1000\n",
    "Classes = os.listdir(\"C:/Users/ENES DORUK/Desktop/CNN_Harf/Dataset/training_set/\")\n",
    "for i in range(len(Classes)):\n",
    "    Images = os.listdir(\"C:/Users/ENES DORUK/Desktop/CNN_Harf/Dataset/training_set/{}\".format(i))\n",
    "    for j in range(300):\n",
    "        img = cv2.imread(\"C:/Users/ENES DORUK/Desktop/CNN_Harf/Dataset/training_set/{}/{}\".format(i,Images[j]), cv2.IMREAD_UNCHANGED)\n",
    "        x += 1\n",
    "        for k in range(1,5):\n",
    "            kernel = np.ones((k,k),np.uint8)\n",
    "            for l in range(1,5):\n",
    "                newImg = cv2.erode(img,kernel,iterations = l)\n",
    "                cv2.imwrite(\"C:/Users/ENES DORUK/Desktop/CNN_Harf/Dataset/training_set/{}/z{}.jpg\".format(i,x),newImg)"
   ]
  },
  {
   "cell_type": "markdown",
   "metadata": {},
   "source": [
    "VALIDATION"
   ]
  },
  {
   "cell_type": "code",
   "execution_count": 7,
   "metadata": {},
   "outputs": [],
   "source": [
    "x = 1000\n",
    "Classes = os.listdir(\"C:/Users/ENES DORUK/Desktop/CNN_Harf/Dataset/validation_set/\")\n",
    "for i in range(len(Classes)):\n",
    "    Images = os.listdir(\"C:/Users/ENES DORUK/Desktop/CNN_Harf/Dataset/validation_set/{}\".format(i))\n",
    "    for j in range(150):\n",
    "        img = cv2.imread(\"C:/Users/ENES DORUK/Desktop/CNN_Harf/Dataset/validation_set/{}/{}\".format(i,Images[j]), cv2.IMREAD_UNCHANGED)\n",
    "        x += 1\n",
    "        for k in range(1,5):\n",
    "            kernel = np.ones((k,k),np.uint8)\n",
    "            for l in range(1,5):\n",
    "                newImg = cv2.erode(img,kernel,iterations = l)\n",
    "                cv2.imwrite(\"C:/Users/ENES DORUK/Desktop/CNN_Harf/Dataset/validation_set/{}/w{}.jpg\".format(i,x),newImg)"
   ]
  },
  {
   "cell_type": "markdown",
   "metadata": {},
   "source": [
    "# MORPH_OPEN FILTERING"
   ]
  },
  {
   "cell_type": "markdown",
   "metadata": {},
   "source": [
    "VALIDATION"
   ]
  },
  {
   "cell_type": "code",
   "execution_count": 8,
   "metadata": {},
   "outputs": [],
   "source": [
    "x = 1000\n",
    "Classes = os.listdir(\"C:/Users/ENES DORUK/Desktop/CNN_Harf/Dataset/validation_set/\")\n",
    "for i in range(len(Classes)):\n",
    "    Images = os.listdir(\"C:/Users/ENES DORUK/Desktop/CNN_Harf/Dataset/validation_set/{}\".format(i))\n",
    "    for j in range(150):\n",
    "        img = cv2.imread(\"C:/Users/ENES DORUK/Desktop/CNN_Harf/Dataset/validation_set/{}/{}\".format(i,Images[j]), cv2.IMREAD_UNCHANGED)\n",
    "        x += 1\n",
    "        for k in range(1,5):\n",
    "            kernel = np.ones((k,k),np.uint8)\n",
    "            newImg = cv2.morphologyEx(img,cv2.MORPH_OPEN,kernel)\n",
    "            cv2.imwrite(\"C:/Users/ENES DORUK/Desktop/CNN_Harf/Dataset/validation_set/{}/p{}.jpg\".format(i,x),newImg)"
   ]
  },
  {
   "cell_type": "markdown",
   "metadata": {},
   "source": [
    "TRAINING"
   ]
  },
  {
   "cell_type": "code",
   "execution_count": 9,
   "metadata": {},
   "outputs": [],
   "source": [
    "x = 1000\n",
    "Classes = os.listdir(\"C:/Users/ENES DORUK/Desktop/CNN_Harf/Dataset/training_set/\")\n",
    "for i in range(len(Classes)):\n",
    "    Images = os.listdir(\"C:/Users/ENES DORUK/Desktop/CNN_Harf/Dataset/training_set/{}\".format(i))\n",
    "    for j in range(300):\n",
    "        img = cv2.imread(\"C:/Users/ENES DORUK/Desktop/CNN_Harf/Dataset/training_set/{}/{}\".format(i,Images[j]), cv2.IMREAD_UNCHANGED)\n",
    "        x += 1\n",
    "        for k in range(1,3):\n",
    "            kernel = np.ones((k,k),np.uint8)\n",
    "            newImg = cv2.morphologyEx(img,cv2.MORPH_OPEN,kernel)\n",
    "            cv2.imwrite(\"C:/Users/ENES DORUK/Desktop/CNN_Harf/Dataset/training_set/{}/b{}.jpg\".format(i,x),newImg)"
   ]
  },
  {
   "cell_type": "markdown",
   "metadata": {},
   "source": [
    "TEST"
   ]
  },
  {
   "cell_type": "code",
   "execution_count": 10,
   "metadata": {},
   "outputs": [],
   "source": [
    "x = 1000\n",
    "Classes = os.listdir(\"C:/Users/ENES DORUK/Desktop/CNN_Harf/Dataset/test_set/\")\n",
    "for i in range(len(Classes)):\n",
    "    Images = os.listdir(\"C:/Users/ENES DORUK/Desktop/CNN_Harf/Dataset/test_set/{}\".format(i))\n",
    "    for j in range(100):\n",
    "        img = cv2.imread(\"C:/Users/ENES DORUK/Desktop/CNN_Harf/Dataset/test_set/{}/{}\".format(i,Images[j]), cv2.IMREAD_UNCHANGED)\n",
    "        x += 1\n",
    "        for k in range(1,3):\n",
    "            kernel = np.ones((k,k),np.uint8)\n",
    "            newImg = cv2.morphologyEx(img,cv2.MORPH_OPEN,kernel)\n",
    "            cv2.imwrite(\"C:/Users/ENES DORUK/Desktop/CNN_Harf/Dataset/test_set/{}/bcv{}.jpg\".format(i,x),newImg)"
   ]
  },
  {
   "cell_type": "markdown",
   "metadata": {},
   "source": [
    "# MORPH_GRADIENT FILTERING"
   ]
  },
  {
   "cell_type": "markdown",
   "metadata": {},
   "source": [
    "TEST"
   ]
  },
  {
   "cell_type": "code",
   "execution_count": 11,
   "metadata": {},
   "outputs": [],
   "source": [
    "x = 1000\n",
    "Classes = os.listdir(\"C:/Users/ENES DORUK/Desktop/CNN_Harf/Dataset/test_set/\")\n",
    "for i in range(len(Classes)):\n",
    "    Images = os.listdir(\"C:/Users/ENES DORUK/Desktop/CNN_Harf/Dataset/test_set/{}\".format(i))\n",
    "    for j in range(100):\n",
    "        img = cv2.imread(\"C:/Users/ENES DORUK/Desktop/CNN_Harf/Dataset/test_set/{}/{}\".format(i,Images[j]), cv2.IMREAD_UNCHANGED)\n",
    "        x += 1\n",
    "        for k in range(1,3):\n",
    "            kernel = np.ones((k,k),np.uint8)\n",
    "            newImg = cv2.morphologyEx(img,cv2.MORPH_GRADIENT,kernel)\n",
    "            cv2.imwrite(\"C:/Users/ENES DORUK/Desktop/CNN_Harf/Dataset/test_set/{}/cscs{}.jpg\".format(i,x),newImg)"
   ]
  },
  {
   "cell_type": "markdown",
   "metadata": {},
   "source": [
    "TRAINING"
   ]
  },
  {
   "cell_type": "code",
   "execution_count": 12,
   "metadata": {},
   "outputs": [],
   "source": [
    "x = 1000\n",
    "Classes = os.listdir(\"C:/Users/ENES DORUK/Desktop/CNN_Harf/Dataset/training_set/\")\n",
    "for i in range(len(Classes)):\n",
    "    Images = os.listdir(\"C:/Users/ENES DORUK/Desktop/CNN_Harf/Dataset/training_set/{}\".format(i))\n",
    "    for j in range(300):\n",
    "        img = cv2.imread(\"C:/Users/ENES DORUK/Desktop/CNN_Harf/Dataset/training_set/{}/{}\".format(i,Images[j]), cv2.IMREAD_UNCHANGED)\n",
    "        x += 1\n",
    "        for k in range(1,3):\n",
    "            kernel = np.ones((k,k),np.uint8)\n",
    "            newImg = cv2.morphologyEx(img,cv2.MORPH_GRADIENT,kernel)\n",
    "            cv2.imwrite(\"C:/Users/ENES DORUK/Desktop/CNN_Harf/Dataset/training_set/{}/www{}.jpg\".format(i,x),newImg)"
   ]
  },
  {
   "cell_type": "markdown",
   "metadata": {},
   "source": [
    "VALIDATION"
   ]
  },
  {
   "cell_type": "code",
   "execution_count": 13,
   "metadata": {},
   "outputs": [],
   "source": [
    "x = 1000\n",
    "Classes = os.listdir(\"C:/Users/ENES DORUK/Desktop/CNN_Harf/Dataset/validation_set/\")\n",
    "for i in range(len(Classes)):\n",
    "    Images = os.listdir(\"C:/Users/ENES DORUK/Desktop/CNN_Harf/Dataset/validation_set/{}\".format(i))\n",
    "    for j in range(150):\n",
    "        img = cv2.imread(\"C:/Users/ENES DORUK/Desktop/CNN_Harf/Dataset/validation_set/{}/{}\".format(i,Images[j]), cv2.IMREAD_UNCHANGED)\n",
    "        x += 1\n",
    "        for k in range(1,3):\n",
    "            kernel = np.ones((k,k),np.uint8)\n",
    "            newImg = cv2.morphologyEx(img,cv2.MORPH_GRADIENT,kernel)\n",
    "            cv2.imwrite(\"C:/Users/ENES DORUK/Desktop/CNN_Harf/Dataset/validation_set/{}/qqqq{}.jpg\".format(i,x),newImg)"
   ]
  },
  {
   "cell_type": "markdown",
   "metadata": {},
   "source": [
    "# SMOOTHING FILTERING"
   ]
  },
  {
   "cell_type": "markdown",
   "metadata": {},
   "source": [
    "VALIDATION"
   ]
  },
  {
   "cell_type": "code",
   "execution_count": 14,
   "metadata": {},
   "outputs": [],
   "source": [
    "x = 1000\n",
    "Classes = os.listdir(\"C:/Users/ENES DORUK/Desktop/CNN_Harf/Dataset/validation_set/\")\n",
    "for i in range(len(Classes)):\n",
    "    Images = os.listdir(\"C:/Users/ENES DORUK/Desktop/CNN_Harf/Dataset/validation_set/{}\".format(i))\n",
    "    for j in range(150):\n",
    "        img = cv2.imread(\"C:/Users/ENES DORUK/Desktop/CNN_Harf/Dataset/validation_set/{}/{}\".format(i,Images[j]), cv2.IMREAD_UNCHANGED)\n",
    "        x += 1\n",
    "        for k in range(1,5):\n",
    "            kernel = np.ones((k,k),np.float32)/25\n",
    "            newImg = cv2.filter2D(img,-1,kernel)\n",
    "            cv2.imwrite(\"C:/Users/ENES DORUK/Desktop/CNN_Harf/Dataset/validation_set/{}/sfsdfds{}.jpg\".format(i,x),newImg)"
   ]
  },
  {
   "cell_type": "markdown",
   "metadata": {},
   "source": [
    "TEST"
   ]
  },
  {
   "cell_type": "code",
   "execution_count": 15,
   "metadata": {},
   "outputs": [],
   "source": [
    "x = 1000\n",
    "Classes = os.listdir(\"C:/Users/ENES DORUK/Desktop/CNN_Harf/Dataset/test_set/\")\n",
    "for i in range(len(Classes)):\n",
    "    Images = os.listdir(\"C:/Users/ENES DORUK/Desktop/CNN_Harf/Dataset/test_set/{}\".format(i))\n",
    "    for j in range(100):\n",
    "        img = cv2.imread(\"C:/Users/ENES DORUK/Desktop/CNN_Harf/Dataset/test_set/{}/{}\".format(i,Images[j]), cv2.IMREAD_UNCHANGED)\n",
    "        x += 1\n",
    "        for k in range(1,5):\n",
    "            kernel = np.ones((k,k),np.float32)/25\n",
    "            newImg = cv2.filter2D(img,-1,kernel)\n",
    "            cv2.imwrite(\"C:/Users/ENES DORUK/Desktop/CNN_Harf/Dataset/test_set/{}/xvxvxv{}.jpg\".format(i,x),newImg)"
   ]
  },
  {
   "cell_type": "markdown",
   "metadata": {},
   "source": [
    "TRAINING"
   ]
  },
  {
   "cell_type": "code",
   "execution_count": 16,
   "metadata": {},
   "outputs": [],
   "source": [
    "x = 1000\n",
    "Classes = os.listdir(\"C:/Users/ENES DORUK/Desktop/CNN_Harf/Dataset/training_set/\")\n",
    "for i in range(len(Classes)):\n",
    "    Images = os.listdir(\"C:/Users/ENES DORUK/Desktop/CNN_Harf/Dataset/training_set/{}\".format(i))\n",
    "    for j in range(300):\n",
    "        img = cv2.imread(\"C:/Users/ENES DORUK/Desktop/CNN_Harf/Dataset/training_set/{}/{}\".format(i,Images[j]), cv2.IMREAD_UNCHANGED)\n",
    "        x += 1\n",
    "        for k in range(1,5):\n",
    "            kernel = np.ones((k,k),np.float32)/25\n",
    "            newImg = cv2.filter2D(img,-1,kernel)\n",
    "            cv2.imwrite(\"C:/Users/ENES DORUK/Desktop/CNN_Harf/Dataset/training_set/{}/qwqwwd{}.jpg\".format(i,x),newImg)"
   ]
  }
 ],
 "metadata": {
  "kernelspec": {
   "display_name": "Python 3",
   "language": "python",
   "name": "python3"
  },
  "language_info": {
   "codemirror_mode": {
    "name": "ipython",
    "version": 3
   },
   "file_extension": ".py",
   "mimetype": "text/x-python",
   "name": "python",
   "nbconvert_exporter": "python",
   "pygments_lexer": "ipython3",
   "version": "3.7.4"
  }
 },
 "nbformat": 4,
 "nbformat_minor": 2
}
