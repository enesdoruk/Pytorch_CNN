{
 "cells": [
  {
   "cell_type": "code",
   "execution_count": 2,
   "metadata": {},
   "outputs": [],
   "source": [
    "import os \n",
    "import cv2"
   ]
  },
  {
   "cell_type": "markdown",
   "metadata": {},
   "source": [
    "# TRAINING SET RESIZE"
   ]
  },
  {
   "cell_type": "code",
   "execution_count": 3,
   "metadata": {},
   "outputs": [],
   "source": [
    "Classes = os.listdir(\"C:/Users/ENES DORUK/Desktop/CNN_Harf/Dataset/training_set/\")\n",
    "for i in range(len(Classes)):\n",
    "    Images = os.listdir(\"C:/Users/ENES DORUK/Desktop/CNN_Harf/Dataset/training_set/{}\".format(i))\n",
    "    for j in range(len(Images)):\n",
    "        img = cv2.imread(\"C:/Users/ENES DORUK/Desktop/CNN_Harf/Dataset/training_set/{}/{}\".format(i,Images[j]), cv2.IMREAD_UNCHANGED)\n",
    "        dim = (32, 32)\n",
    "        resized = cv2.resize(img, dim, interpolation = cv2.INTER_AREA)\n",
    "        cv2.imwrite(\"C:/Users/ENES DORUK/Desktop/CNN_Harf/Dataset/training_set/{}/{}\".format(i,Images[j]),resized)"
   ]
  },
  {
   "cell_type": "markdown",
   "metadata": {},
   "source": [
    "# TEST SET RESIZING"
   ]
  },
  {
   "cell_type": "code",
   "execution_count": 4,
   "metadata": {},
   "outputs": [],
   "source": [
    "Classes = os.listdir(\"C:/Users/ENES DORUK/Desktop/CNN_Harf/Dataset/test_set/\")\n",
    "for i in range(len(Classes)):\n",
    "    Images = os.listdir(\"C:/Users/ENES DORUK/Desktop/CNN_Harf/Dataset/test_set/{}\".format(i))\n",
    "    for j in range(len(Images)):\n",
    "        img = cv2.imread(\"C:/Users/ENES DORUK/Desktop/CNN_Harf/Dataset/test_set/{}/{}\".format(i,Images[j]), cv2.IMREAD_UNCHANGED)\n",
    "        dim = (32,32)\n",
    "        resized = cv2.resize(img, dim, interpolation = cv2.INTER_AREA)\n",
    "        cv2.imwrite(\"C:/Users/ENES DORUK/Desktop/CNN_Harf/Dataset/test_set/{}/{}\".format(i,Images[j]),resized)"
   ]
  },
  {
   "cell_type": "markdown",
   "metadata": {},
   "source": [
    "# VALIDATION SET RESIZING"
   ]
  },
  {
   "cell_type": "code",
   "execution_count": 5,
   "metadata": {},
   "outputs": [],
   "source": [
    "Classes = os.listdir(\"C:/Users/ENES DORUK/Desktop/CNN_Harf/Dataset/validation_set/\")\n",
    "for i in range(len(Classes)):\n",
    "    Images = os.listdir(\"C:/Users/ENES DORUK/Desktop/CNN_Harf/Dataset/validation_set/{}\".format(i))\n",
    "    for j in range(len(Images)):\n",
    "        img = cv2.imread(\"C:/Users/ENES DORUK/Desktop/CNN_Harf/Dataset/validation_set/{}/{}\".format(i,Images[j]), cv2.IMREAD_UNCHANGED)\n",
    "        dim = (32, 32)\n",
    "        resized = cv2.resize(img, dim, interpolation = cv2.INTER_AREA)\n",
    "        cv2.imwrite(\"C:/Users/ENES DORUK/Desktop/CNN_Harf/Dataset/validation_set/{}/{}\".format(i,Images[j]),resized)"
   ]
  },
  {
   "cell_type": "code",
   "execution_count": null,
   "metadata": {},
   "outputs": [],
   "source": []
  }
 ],
 "metadata": {
  "kernelspec": {
   "display_name": "Python 3",
   "language": "python",
   "name": "python3"
  },
  "language_info": {
   "codemirror_mode": {
    "name": "ipython",
    "version": 3
   },
   "file_extension": ".py",
   "mimetype": "text/x-python",
   "name": "python",
   "nbconvert_exporter": "python",
   "pygments_lexer": "ipython3",
   "version": "3.7.4"
  }
 },
 "nbformat": 4,
 "nbformat_minor": 2
}
