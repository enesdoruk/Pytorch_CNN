{
 "cells": [
  {
   "cell_type": "code",
   "execution_count": 1,
   "metadata": {},
   "outputs": [],
   "source": [
    "import os \n",
    "import cv2"
   ]
  },
  {
   "cell_type": "code",
   "execution_count": 3,
   "metadata": {},
   "outputs": [],
   "source": [
    "data0 = os.listdir(\"C:/Users/ENES DORUK/Desktop/CNN_Harf/veriler/training_set/0/\")\n",
    "for i in range(len(data0)):\n",
    "    img = cv2.imread(\"C:/Users/ENES DORUK/Desktop/CNN_Harf/veriler/training_set/0/{}\".format(data0[i]), cv2.IMREAD_UNCHANGED)\n",
    "    img = cv2.cvtColor(img, cv2.COLOR_BGR2GRAY)\n",
    "    cv2.imwrite(\"C:/Users/ENES DORUK/Desktop/CNN_Harf/veriler/training_set/0/{}\".format(data0[i]),img) "
   ]
  },
  {
   "cell_type": "code",
   "execution_count": 4,
   "metadata": {},
   "outputs": [],
   "source": [
    "data1 = os.listdir(\"C:/Users/ENES DORUK/Desktop/CNN_Harf/veriler/training_set/1/\")\n",
    "for i in range(len(data1)):\n",
    "    img = cv2.imread(\"C:/Users/ENES DORUK/Desktop/CNN_Harf/veriler/training_set/1/{}\".format(data1[i]), cv2.IMREAD_UNCHANGED)\n",
    "    img = cv2.cvtColor(img, cv2.COLOR_BGR2GRAY)\n",
    "    cv2.imwrite(\"C:/Users/ENES DORUK/Desktop/CNN_Harf/veriler/training_set/1/{}\".format(data1[i]),img) "
   ]
  },
  {
   "cell_type": "code",
   "execution_count": 5,
   "metadata": {},
   "outputs": [],
   "source": [
    "data2 = os.listdir(\"C:/Users/ENES DORUK/Desktop/CNN_Harf/veriler/training_set/2/\")\n",
    "for i in range(len(data2)):\n",
    "    img = cv2.imread(\"C:/Users/ENES DORUK/Desktop/CNN_Harf/veriler/training_set/2/{}\".format(data2[i]), cv2.IMREAD_UNCHANGED)\n",
    "    img = cv2.cvtColor(img, cv2.COLOR_BGR2GRAY)\n",
    "    cv2.imwrite(\"C:/Users/ENES DORUK/Desktop/CNN_Harf/veriler/training_set/2/{}\".format(data2[i]),img) "
   ]
  },
  {
   "cell_type": "code",
   "execution_count": 6,
   "metadata": {},
   "outputs": [],
   "source": [
    "data3 = os.listdir(\"C:/Users/ENES DORUK/Desktop/CNN_Harf/veriler/training_set/3/\")\n",
    "for i in range(len(data3)):\n",
    "    img = cv2.imread(\"C:/Users/ENES DORUK/Desktop/CNN_Harf/veriler/training_set/3/{}\".format(data3[i]), cv2.IMREAD_UNCHANGED)\n",
    "    img = cv2.cvtColor(img, cv2.COLOR_BGR2GRAY)\n",
    "    cv2.imwrite(\"C:/Users/ENES DORUK/Desktop/CNN_Harf/veriler/training_set/3/{}\".format(data3[i]),img) "
   ]
  },
  {
   "cell_type": "code",
   "execution_count": 7,
   "metadata": {},
   "outputs": [],
   "source": [
    "data4 = os.listdir(\"C:/Users/ENES DORUK/Desktop/CNN_Harf/veriler/training_set/4/\")\n",
    "for i in range(len(data4)):\n",
    "    img = cv2.imread(\"C:/Users/ENES DORUK/Desktop/CNN_Harf/veriler/training_set/4/{}\".format(data4[i]), cv2.IMREAD_UNCHANGED)\n",
    "    img = cv2.cvtColor(img, cv2.COLOR_BGR2GRAY)\n",
    "    cv2.imwrite(\"C:/Users/ENES DORUK/Desktop/CNN_Harf/veriler/training_set/4/{}\".format(data4[i]),img) "
   ]
  },
  {
   "cell_type": "code",
   "execution_count": 8,
   "metadata": {},
   "outputs": [],
   "source": [
    "data5 = os.listdir(\"C:/Users/ENES DORUK/Desktop/CNN_Harf/veriler/training_set/5/\")\n",
    "for i in range(len(data5)):\n",
    "    img = cv2.imread(\"C:/Users/ENES DORUK/Desktop/CNN_Harf/veriler/training_set/5/{}\".format(data5[i]), cv2.IMREAD_UNCHANGED)\n",
    "    img = cv2.cvtColor(img, cv2.COLOR_BGR2GRAY)\n",
    "    cv2.imwrite(\"C:/Users/ENES DORUK/Desktop/CNN_Harf/veriler/training_set/5/{}\".format(data5[i]),img) "
   ]
  },
  {
   "cell_type": "code",
   "execution_count": 9,
   "metadata": {},
   "outputs": [],
   "source": [
    "data6 = os.listdir(\"C:/Users/ENES DORUK/Desktop/CNN_Harf/veriler/training_set/6/\")\n",
    "for i in range(len(data6)):\n",
    "    img = cv2.imread(\"C:/Users/ENES DORUK/Desktop/CNN_Harf/veriler/training_set/6/{}\".format(data6[i]), cv2.IMREAD_UNCHANGED)\n",
    "    img = cv2.cvtColor(img, cv2.COLOR_BGR2GRAY)\n",
    "    cv2.imwrite(\"C:/Users/ENES DORUK/Desktop/CNN_Harf/veriler/training_set/6/{}\".format(data6[i]),img) "
   ]
  },
  {
   "cell_type": "code",
   "execution_count": 10,
   "metadata": {},
   "outputs": [],
   "source": [
    "data7 = os.listdir(\"C:/Users/ENES DORUK/Desktop/CNN_Harf/veriler/training_set/7/\")\n",
    "for i in range(len(data7)):\n",
    "    img = cv2.imread(\"C:/Users/ENES DORUK/Desktop/CNN_Harf/veriler/training_set/7/{}\".format(data7[i]), cv2.IMREAD_UNCHANGED)\n",
    "    img = cv2.cvtColor(img, cv2.COLOR_BGR2GRAY)\n",
    "    cv2.imwrite(\"C:/Users/ENES DORUK/Desktop/CNN_Harf/veriler/training_set/7/{}\".format(data7[i]),img) "
   ]
  },
  {
   "cell_type": "code",
   "execution_count": 11,
   "metadata": {},
   "outputs": [],
   "source": [
    "data8 = os.listdir(\"C:/Users/ENES DORUK/Desktop/CNN_Harf/veriler/training_set/8/\")\n",
    "for i in range(len(data8)):\n",
    "    img = cv2.imread(\"C:/Users/ENES DORUK/Desktop/CNN_Harf/veriler/training_set/8/{}\".format(data8[i]), cv2.IMREAD_UNCHANGED)\n",
    "    img = cv2.cvtColor(img, cv2.COLOR_BGR2GRAY)\n",
    "    cv2.imwrite(\"C:/Users/ENES DORUK/Desktop/CNN_Harf/veriler/training_set/8/{}\".format(data8[i]),img) "
   ]
  },
  {
   "cell_type": "code",
   "execution_count": 12,
   "metadata": {},
   "outputs": [],
   "source": [
    "data9 = os.listdir(\"C:/Users/ENES DORUK/Desktop/CNN_Harf/veriler/training_set/9/\")\n",
    "for i in range(len(data9)):\n",
    "    img = cv2.imread(\"C:/Users/ENES DORUK/Desktop/CNN_Harf/veriler/training_set/9/{}\".format(data9[i]), cv2.IMREAD_UNCHANGED)\n",
    "    img = cv2.cvtColor(img, cv2.COLOR_BGR2GRAY)\n",
    "    cv2.imwrite(\"C:/Users/ENES DORUK/Desktop/CNN_Harf/veriler/training_set/9/{}\".format(data9[i]),img) "
   ]
  },
  {
   "cell_type": "code",
   "execution_count": null,
   "metadata": {},
   "outputs": [],
   "source": []
  }
 ],
 "metadata": {
  "kernelspec": {
   "display_name": "Python 3",
   "language": "python",
   "name": "python3"
  },
  "language_info": {
   "codemirror_mode": {
    "name": "ipython",
    "version": 3
   },
   "file_extension": ".py",
   "mimetype": "text/x-python",
   "name": "python",
   "nbconvert_exporter": "python",
   "pygments_lexer": "ipython3",
   "version": "3.7.4"
  }
 },
 "nbformat": 4,
 "nbformat_minor": 2
}
