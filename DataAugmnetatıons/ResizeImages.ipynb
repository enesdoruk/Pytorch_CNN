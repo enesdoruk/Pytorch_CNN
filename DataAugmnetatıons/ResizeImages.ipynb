{
 "cells": [
  {
   "cell_type": "code",
   "execution_count": 7,
   "metadata": {},
   "outputs": [],
   "source": [
    "import os \n",
    "import cv2"
   ]
  },
  {
   "cell_type": "code",
   "execution_count": 32,
   "metadata": {},
   "outputs": [],
   "source": [
    "data0 = os.listdir(\"C:/Users/ENES DORUK/Desktop/CNN_Harf/veriler/training_set/0/\")\n",
    "for i in range(len(data0)):\n",
    "    img = cv2.imread(\"C:/Users/ENES DORUK/Desktop/CNN_Harf/veriler/training_set/0/{}\".format(data0[i]), cv2.IMREAD_UNCHANGED)\n",
    "    dim = (48, 48)\n",
    "    resized = cv2.resize(img, dim, interpolation = cv2.INTER_AREA)\n",
    "    cv2.imwrite(\"C:/Users/ENES DORUK/Desktop/CNN_Harf/veriler/training_set/0/{}\".format(data0[i]),resized) \n",
    "\n"
   ]
  },
  {
   "cell_type": "code",
   "execution_count": 14,
   "metadata": {},
   "outputs": [],
   "source": [
    "datax0 = os.listdir(\"C:/Users/ENES DORUK/Desktop/CNN_Harf/veriler/test_set/0/\")\n",
    "for i in range(len(datax0)):\n",
    "    img = cv2.imread(\"C:/Users/ENES DORUK/Desktop/CNN_Harf/veriler/test_set/0/{}\".format(datax0[i]), cv2.IMREAD_UNCHANGED)\n",
    "    dim = (48, 48)\n",
    "    resized = cv2.resize(img, dim, interpolation = cv2.INTER_AREA)\n",
    "    cv2.imwrite(\"C:/Users/ENES DORUK/Desktop/CNN_Harf/veriler/test_set/0/{}\".format(datax0[i]),resized) \n",
    "\n"
   ]
  },
  {
   "cell_type": "code",
   "execution_count": 34,
   "metadata": {},
   "outputs": [],
   "source": [
    "data1 = os.listdir(\"C:/Users/ENES DORUK/Desktop/CNN_Harf/veriler/training_set/1/\")\n",
    "for i in range(len(data1)):\n",
    "    img = cv2.imread(\"C:/Users/ENES DORUK/Desktop/CNN_Harf/veriler/training_set/1/{}\".format(data1[i]), cv2.IMREAD_UNCHANGED)\n",
    "    dim = (48, 48)\n",
    "    resized = cv2.resize(img, dim, interpolation = cv2.INTER_AREA)\n",
    "    cv2.imwrite(\"C:/Users/ENES DORUK/Desktop/CNN_Harf/veriler/training_set/1/{}\".format(data1[i]),resized) \n"
   ]
  },
  {
   "cell_type": "code",
   "execution_count": 15,
   "metadata": {},
   "outputs": [],
   "source": [
    "datax1 = os.listdir(\"C:/Users/ENES DORUK/Desktop/CNN_Harf/veriler/test_set/1/\")\n",
    "for i in range(len(datax1)):\n",
    "    img = cv2.imread(\"C:/Users/ENES DORUK/Desktop/CNN_Harf/veriler/test_set/1/{}\".format(datax1[i]), cv2.IMREAD_UNCHANGED)\n",
    "    dim = (48, 48)\n",
    "    resized = cv2.resize(img, dim, interpolation = cv2.INTER_AREA)\n",
    "    cv2.imwrite(\"C:/Users/ENES DORUK/Desktop/CNN_Harf/veriler/test_set/1/{}\".format(datax1[i]),resized) \n"
   ]
  },
  {
   "cell_type": "code",
   "execution_count": 35,
   "metadata": {},
   "outputs": [],
   "source": [
    "data2 = os.listdir(\"C:/Users/ENES DORUK/Desktop/CNN_Harf/veriler/training_set/2/\")\n",
    "for i in range(len(data2)):\n",
    "    img = cv2.imread(\"C:/Users/ENES DORUK/Desktop/CNN_Harf/veriler/training_set/2/{}\".format(data2[i]), cv2.IMREAD_UNCHANGED)\n",
    "    dim = (48, 48)\n",
    "    resized = cv2.resize(img, dim, interpolation = cv2.INTER_AREA)\n",
    "    cv2.imwrite(\"C:/Users/ENES DORUK/Desktop/CNN_Harf/veriler/training_set/2/{}\".format(data2[i]),resized) \n"
   ]
  },
  {
   "cell_type": "code",
   "execution_count": 16,
   "metadata": {},
   "outputs": [],
   "source": [
    "datax2 = os.listdir(\"C:/Users/ENES DORUK/Desktop/CNN_Harf/veriler/test_set/2/\")\n",
    "for i in range(len(datax2)):\n",
    "    img = cv2.imread(\"C:/Users/ENES DORUK/Desktop/CNN_Harf/veriler/test_set/2/{}\".format(datax2[i]), cv2.IMREAD_UNCHANGED)\n",
    "    dim = (48, 48)\n",
    "    resized = cv2.resize(img, dim, interpolation = cv2.INTER_AREA)\n",
    "    cv2.imwrite(\"C:/Users/ENES DORUK/Desktop/CNN_Harf/veriler/test_set/2/{}\".format(datax2[i]),resized) \n"
   ]
  },
  {
   "cell_type": "code",
   "execution_count": 36,
   "metadata": {},
   "outputs": [],
   "source": [
    "data3 = os.listdir(\"C:/Users/ENES DORUK/Desktop/CNN_Harf/veriler/training_set/3/\")\n",
    "for i in range(len(data3)):\n",
    "    img = cv2.imread(\"C:/Users/ENES DORUK/Desktop/CNN_Harf/veriler/training_set/3/{}\".format(data3[i]), cv2.IMREAD_UNCHANGED)\n",
    "    dim = (48, 48)\n",
    "    resized = cv2.resize(img, dim, interpolation = cv2.INTER_AREA)\n",
    "    cv2.imwrite(\"C:/Users/ENES DORUK/Desktop/CNN_Harf/veriler/training_set/3/{}\".format(data3[i]),resized) \n"
   ]
  },
  {
   "cell_type": "code",
   "execution_count": 18,
   "metadata": {},
   "outputs": [],
   "source": [
    "datax3 = os.listdir(\"C:/Users/ENES DORUK/Desktop/CNN_Harf/veriler/test_set/3/\")\n",
    "for i in range(len(datax3)):\n",
    "    img = cv2.imread(\"C:/Users/ENES DORUK/Desktop/CNN_Harf/veriler/test_set/3/{}\".format(datax3[i]), cv2.IMREAD_UNCHANGED)\n",
    "    dim = (48, 48)\n",
    "    resized = cv2.resize(img, dim, interpolation = cv2.INTER_AREA)\n",
    "    cv2.imwrite(\"C:/Users/ENES DORUK/Desktop/CNN_Harf/veriler/test_set/3/{}\".format(datax3[i]),resized) \n"
   ]
  },
  {
   "cell_type": "code",
   "execution_count": 17,
   "metadata": {},
   "outputs": [],
   "source": [
    "datax4 = os.listdir(\"C:/Users/ENES DORUK/Desktop/CNN_Harf/veriler/test_set/4/\")\n",
    "for i in range(len(datax4)):\n",
    "    img = cv2.imread(\"C:/Users/ENES DORUK/Desktop/CNN_Harf/veriler/test_set/4/{}\".format(datax4[i]), cv2.IMREAD_UNCHANGED)\n",
    "    dim = (48, 48)\n",
    "    resized = cv2.resize(img, dim, interpolation = cv2.INTER_AREA)\n",
    "    cv2.imwrite(\"C:/Users/ENES DORUK/Desktop/CNN_Harf/veriler/test_set/4/{}\".format(datax4[i]),resized) \n"
   ]
  },
  {
   "cell_type": "code",
   "execution_count": 37,
   "metadata": {},
   "outputs": [],
   "source": [
    "data4 = os.listdir(\"C:/Users/ENES DORUK/Desktop/CNN_Harf/veriler/training_set/4/\")\n",
    "for i in range(len(data4)):\n",
    "    img = cv2.imread(\"C:/Users/ENES DORUK/Desktop/CNN_Harf/veriler/training_set/4/{}\".format(data4[i]), cv2.IMREAD_UNCHANGED)\n",
    "    dim = (48, 48)\n",
    "    resized = cv2.resize(img, dim, interpolation = cv2.INTER_AREA)\n",
    "    cv2.imwrite(\"C:/Users/ENES DORUK/Desktop/CNN_Harf/veriler/training_set/4/{}\".format(data4[i]),resized) \n"
   ]
  },
  {
   "cell_type": "code",
   "execution_count": 38,
   "metadata": {},
   "outputs": [],
   "source": [
    "data5 = os.listdir(\"C:/Users/ENES DORUK/Desktop/CNN_Harf/veriler/training_set/5/\")\n",
    "for i in range(len(data5)):\n",
    "    img = cv2.imread(\"C:/Users/ENES DORUK/Desktop/CNN_Harf/veriler/training_set/5/{}\".format(data5[i]), cv2.IMREAD_UNCHANGED)\n",
    "    dim = (48, 48)\n",
    "    resized = cv2.resize(img, dim, interpolation = cv2.INTER_AREA)\n",
    "    cv2.imwrite(\"C:/Users/ENES DORUK/Desktop/CNN_Harf/veriler/training_set/5/{}\".format(data5[i]),resized) \n"
   ]
  },
  {
   "cell_type": "code",
   "execution_count": 19,
   "metadata": {},
   "outputs": [],
   "source": [
    "datax5 = os.listdir(\"C:/Users/ENES DORUK/Desktop/CNN_Harf/veriler/test_set/5/\")\n",
    "for i in range(len(datax5)):\n",
    "    img = cv2.imread(\"C:/Users/ENES DORUK/Desktop/CNN_Harf/veriler/test_set/5/{}\".format(datax5[i]), cv2.IMREAD_UNCHANGED)\n",
    "    dim = (48, 48)\n",
    "    resized = cv2.resize(img, dim, interpolation = cv2.INTER_AREA)\n",
    "    cv2.imwrite(\"C:/Users/ENES DORUK/Desktop/CNN_Harf/veriler/test_set/5/{}\".format(datax5[i]),resized) \n"
   ]
  },
  {
   "cell_type": "code",
   "execution_count": 39,
   "metadata": {},
   "outputs": [],
   "source": [
    "data6 = os.listdir(\"C:/Users/ENES DORUK/Desktop/CNN_Harf/veriler/training_set/6/\")\n",
    "for i in range(len(data6)):\n",
    "    img = cv2.imread(\"C:/Users/ENES DORUK/Desktop/CNN_Harf/veriler/training_set/6/{}\".format(data6[i]), cv2.IMREAD_UNCHANGED)\n",
    "    dim = (48, 48)\n",
    "    resized = cv2.resize(img, dim, interpolation = cv2.INTER_AREA)\n",
    "    cv2.imwrite(\"C:/Users/ENES DORUK/Desktop/CNN_Harf/veriler/training_set/6/{}\".format(data6[i]),resized) \n"
   ]
  },
  {
   "cell_type": "code",
   "execution_count": 20,
   "metadata": {},
   "outputs": [],
   "source": [
    "datax6 = os.listdir(\"C:/Users/ENES DORUK/Desktop/CNN_Harf/veriler/test_set/6/\")\n",
    "for i in range(len(datax6)):\n",
    "    img = cv2.imread(\"C:/Users/ENES DORUK/Desktop/CNN_Harf/veriler/test_set/6/{}\".format(datax6[i]), cv2.IMREAD_UNCHANGED)\n",
    "    dim = (48, 48)\n",
    "    resized = cv2.resize(img, dim, interpolation = cv2.INTER_AREA)\n",
    "    cv2.imwrite(\"C:/Users/ENES DORUK/Desktop/CNN_Harf/veriler/test_set/6/{}\".format(datax6[i]),resized) \n"
   ]
  },
  {
   "cell_type": "code",
   "execution_count": 40,
   "metadata": {},
   "outputs": [],
   "source": [
    "data7 = os.listdir(\"C:/Users/ENES DORUK/Desktop/CNN_Harf/veriler/training_set/7/\")\n",
    "for i in range(len(data7)):\n",
    "    img = cv2.imread(\"C:/Users/ENES DORUK/Desktop/CNN_Harf/veriler/training_set/7/{}\".format(data7[i]), cv2.IMREAD_UNCHANGED)\n",
    "    dim = (48, 48)\n",
    "    resized = cv2.resize(img, dim, interpolation = cv2.INTER_AREA)\n",
    "    cv2.imwrite(\"C:/Users/ENES DORUK/Desktop/CNN_Harf/veriler/training_set/7/{}\".format(data7[i]),resized) \n"
   ]
  },
  {
   "cell_type": "code",
   "execution_count": 21,
   "metadata": {},
   "outputs": [],
   "source": [
    "datax7 = os.listdir(\"C:/Users/ENES DORUK/Desktop/CNN_Harf/veriler/test_set/7/\")\n",
    "for i in range(len(datax7)):\n",
    "    img = cv2.imread(\"C:/Users/ENES DORUK/Desktop/CNN_Harf/veriler/test_set/7/{}\".format(datax7[i]), cv2.IMREAD_UNCHANGED)\n",
    "    dim = (48, 48)\n",
    "    resized = cv2.resize(img, dim, interpolation = cv2.INTER_AREA)\n",
    "    cv2.imwrite(\"C:/Users/ENES DORUK/Desktop/CNN_Harf/veriler/test_set/7/{}\".format(datax7[i]),resized) \n"
   ]
  },
  {
   "cell_type": "code",
   "execution_count": 41,
   "metadata": {},
   "outputs": [],
   "source": [
    "data8 = os.listdir(\"C:/Users/ENES DORUK/Desktop/CNN_Harf/veriler/training_set/8/\")\n",
    "for i in range(len(data8)):\n",
    "    img = cv2.imread(\"C:/Users/ENES DORUK/Desktop/CNN_Harf/veriler/training_set/8/{}\".format(data8[i]), cv2.IMREAD_UNCHANGED)\n",
    "    dim = (48, 48)\n",
    "    resized = cv2.resize(img, dim, interpolation = cv2.INTER_AREA)\n",
    "    cv2.imwrite(\"C:/Users/ENES DORUK/Desktop/CNN_Harf/veriler/training_set/8/{}\".format(data8[i]),resized) \n"
   ]
  },
  {
   "cell_type": "code",
   "execution_count": 42,
   "metadata": {},
   "outputs": [],
   "source": [
    "data9 = os.listdir(\"C:/Users/ENES DORUK/Desktop/CNN_Harf/veriler/training_set/9/\")\n",
    "for i in range(len(data9)):\n",
    "    img = cv2.imread(\"C:/Users/ENES DORUK/Desktop/CNN_Harf/veriler/training_set/9/{}\".format(data9[i]), cv2.IMREAD_UNCHANGED)\n",
    "    dim = (48, 48)\n",
    "    resized = cv2.resize(img, dim, interpolation = cv2.INTER_AREA)\n",
    "    cv2.imwrite(\"C:/Users/ENES DORUK/Desktop/CNN_Harf/veriler/training_set/9/{}\".format(data9[i]),resized) \n"
   ]
  },
  {
   "cell_type": "code",
   "execution_count": null,
   "metadata": {},
   "outputs": [],
   "source": []
  }
 ],
 "metadata": {
  "kernelspec": {
   "display_name": "Python 3",
   "language": "python",
   "name": "python3"
  },
  "language_info": {
   "codemirror_mode": {
    "name": "ipython",
    "version": 3
   },
   "file_extension": ".py",
   "mimetype": "text/x-python",
   "name": "python",
   "nbconvert_exporter": "python",
   "pygments_lexer": "ipython3",
   "version": "3.7.4"
  }
 },
 "nbformat": 4,
 "nbformat_minor": 2
}
