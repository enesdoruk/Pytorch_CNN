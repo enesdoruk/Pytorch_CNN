{
 "cells": [
  {
   "cell_type": "code",
   "execution_count": 3,
   "metadata": {},
   "outputs": [],
   "source": [
    "import os \n",
    "import cv2\n",
    "import numpy as np\n"
   ]
  },
  {
   "cell_type": "markdown",
   "metadata": {},
   "source": [
    "# ERODE"
   ]
  },
  {
   "cell_type": "code",
   "execution_count": 25,
   "metadata": {},
   "outputs": [],
   "source": [
    "x = 1000\n",
    "dataGen = os.listdir(\"C:/Users/ENES DORUK/Desktop/CNN_Harf/veriler/training_set/\")\n",
    "for j in range(len(dataGen)):\n",
    "    data = os.listdir(\"C:/Users/ENES DORUK/Desktop/CNN_Harf/veriler/training_set/{}/\".format(j))\n",
    "\n",
    "    for i in range(len(data)):\n",
    "        img = cv2.imread(\"C:/Users/ENES DORUK/Desktop/CNN_Harf/veriler/training_set/{}/{}\".format(j,data[i]), cv2.IMREAD_UNCHANGED)\n",
    "        x += 1\n",
    "        kernel = np.ones((5,5),np.uint8)\n",
    "        newImg = cv2.erode(img,kernel,iterations = 2)\n",
    "        cv2.imwrite(\"C:/Users/ENES DORUK/Desktop/CNN_Harf/veriler/training_set/{}/{}.png\".format(j,x),newImg) "
   ]
  },
  {
   "cell_type": "markdown",
   "metadata": {},
   "source": [
    "# MORPH_OPEN "
   ]
  },
  {
   "cell_type": "code",
   "execution_count": 28,
   "metadata": {},
   "outputs": [],
   "source": [
    "x = 7000\n",
    "dataGen = os.listdir(\"C:/Users/ENES DORUK/Desktop/CNN_Harf/veriler/training_set/\")\n",
    "for j in range(len(dataGen)):\n",
    "    data = os.listdir(\"C:/Users/ENES DORUK/Desktop/CNN_Harf/veriler/training_set/{}/\".format(j))\n",
    "\n",
    "    for i in range(len(data)):\n",
    "        img = cv2.imread(\"C:/Users/ENES DORUK/Desktop/CNN_Harf/veriler/training_set/{}/{}\".format(j,data[i]), cv2.IMREAD_UNCHANGED)\n",
    "        x += 1\n",
    "        kernel = np.ones((5,5),np.uint8)\n",
    "        newImg = cv2.morphologyEx(img,cv2.MORPH_OPEN,kernel)\n",
    "        cv2.imwrite(\"C:/Users/ENES DORUK/Desktop/CNN_Harf/veriler/training_set/{}/{}.png\".format(j,x),newImg) "
   ]
  },
  {
   "cell_type": "markdown",
   "metadata": {},
   "source": [
    "# MORPH_GRADIENT"
   ]
  },
  {
   "cell_type": "code",
   "execution_count": 30,
   "metadata": {},
   "outputs": [],
   "source": [
    "x = 9000\n",
    "dataGen = os.listdir(\"C:/Users/ENES DORUK/Desktop/CNN_Harf/veriler/training_set/\")\n",
    "for j in range(len(dataGen)):\n",
    "    data = os.listdir(\"C:/Users/ENES DORUK/Desktop/CNN_Harf/veriler/training_set/{}/\".format(j))\n",
    "\n",
    "    for i in range(len(data)):\n",
    "        img = cv2.imread(\"C:/Users/ENES DORUK/Desktop/CNN_Harf/veriler/training_set/{}/{}\".format(j,data[i]), cv2.IMREAD_UNCHANGED)\n",
    "        x += 1\n",
    "        kernel = np.ones((2,2),np.uint8)\n",
    "        newImg = cv2.morphologyEx(img,cv2.MORPH_GRADIENT,kernel)\n",
    "        cv2.imwrite(\"C:/Users/ENES DORUK/Desktop/CNN_Harf/veriler/training_set/{}/{}.png\".format(j,x),newImg) "
   ]
  },
  {
   "cell_type": "markdown",
   "metadata": {},
   "source": [
    "# SMOOTHING"
   ]
  },
  {
   "cell_type": "code",
   "execution_count": 31,
   "metadata": {},
   "outputs": [],
   "source": [
    "x = 11000\n",
    "dataGen = os.listdir(\"C:/Users/ENES DORUK/Desktop/CNN_Harf/veriler/training_set/\")\n",
    "for j in range(len(dataGen)):\n",
    "    data = os.listdir(\"C:/Users/ENES DORUK/Desktop/CNN_Harf/veriler/training_set/{}/\".format(j))\n",
    "\n",
    "    for i in range(0,len(data)-3000):\n",
    "        img = cv2.imread(\"C:/Users/ENES DORUK/Desktop/CNN_Harf/veriler/training_set/{}/{}\".format(j,data[i]), cv2.IMREAD_UNCHANGED)\n",
    "        x += 1\n",
    "        kernel = np.ones((5,5),np.float32)/25\n",
    "        newImg = cv2.filter2D(img,-1,kernel)\n",
    "        cv2.imwrite(\"C:/Users/ENES DORUK/Desktop/CNN_Harf/veriler/training_set/{}/{}.png\".format(j,x),newImg) "
   ]
  },
  {
   "cell_type": "markdown",
   "metadata": {},
   "source": [
    "# Thresholding"
   ]
  },
  {
   "cell_type": "code",
   "execution_count": null,
   "metadata": {},
   "outputs": [],
   "source": [
    "x = 11000\n",
    "dataGen = os.listdir(\"C:/Users/ENES DORUK/Desktop/CNN_Harf/veriler/training_set/\")\n",
    "for j in range(len(dataGen)):\n",
    "    data = os.listdir(\"C:/Users/ENES DORUK/Desktop/CNN_Harf/veriler/training_set/{}/\".format(j))\n",
    "\n",
    "    for i in range(0,len(data)-3000):\n",
    "        img = cv2.imread(\"C:/Users/ENES DORUK/Desktop/CNN_Harf/veriler/training_set/{}/{}\".format(j,data[i]), cv2.IMREAD_UNCHANGED)\n",
    "        x += 1\n",
    "        kernel = np.ones((5,5),np.float32)/25\n",
    "        newImgimg = cv2.cvtColor(img, cv2.COLOR_BGR2GRAY) \n",
    "        newImg = cv2.filter2D(img,-1,kernel)\n",
    "        cv2.imwrite(\"C:/Users/ENES DORUK/Desktop/CNN_Harf/veriler/training_set/{}/{}.png\".format(j,x),newImg) "
   ]
  }
 ],
 "metadata": {
  "kernelspec": {
   "display_name": "Python 3",
   "language": "python",
   "name": "python3"
  },
  "language_info": {
   "codemirror_mode": {
    "name": "ipython",
    "version": 3
   },
   "file_extension": ".py",
   "mimetype": "text/x-python",
   "name": "python",
   "nbconvert_exporter": "python",
   "pygments_lexer": "ipython3",
   "version": "3.7.4"
  }
 },
 "nbformat": 4,
 "nbformat_minor": 2
}
