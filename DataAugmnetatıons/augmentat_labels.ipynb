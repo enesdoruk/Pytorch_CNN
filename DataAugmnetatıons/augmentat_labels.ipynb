{
 "cells": [
  {
   "cell_type": "code",
   "execution_count": 19,
   "metadata": {},
   "outputs": [],
   "source": [
    "import os \n",
    "import cv2\n",
    "import numpy as np\n"
   ]
  },
  {
   "cell_type": "code",
   "execution_count": 60,
   "metadata": {},
   "outputs": [],
   "source": [
    "dataGen = os.listdir(\"C:/Users/ENES DORUK/Desktop/ene/\")\n",
    "img = cv2.imread(\"C:/Users/ENES DORUK/Desktop/ene/0.jpg\", cv2.IMREAD_UNCHANGED)\n",
    "for i in range(1,5):\n",
    "    kernel = np.ones((i,i),np.uint8)\n",
    "    for j in range(1,5):\n",
    "        newImg = cv2.erode(img,kernel,iterations = j)\n",
    "        cv2.imwrite(\"C:/Users/ENES DORUK/Desktop/ene/z_{}.jpg\".format(j),newImg)\n",
    "img2 = cv2.imread(\"C:/Users/ENES DORUK/Desktop/ene/0.jpg\", cv2.IMREAD_UNCHANGED)\n",
    "for w in range(5,0,-1):\n",
    "    kernel = np.ones((w,w),np.uint8)\n",
    "    for b in range(1,5):\n",
    "        newImg = cv2.erode(img2,kernel,iterations = b)\n",
    "        cv2.imwrite(\"C:/Users/ENES DORUK/Desktop/ene/x_{}.jpg\".format(b),newImg)    \n",
    "img3 = cv2.imread(\"C:/Users/ENES DORUK/Desktop/ene/0.jpg\", cv2.IMREAD_UNCHANGED)\n",
    "for i in range(1,5):\n",
    "    kernel = np.ones((i,i),np.uint8)\n",
    "    for j in range(5,0,-1):\n",
    "        newImg = cv2.erode(img3,kernel,iterations = j)\n",
    "        cv2.imwrite(\"C:/Users/ENES DORUK/Desktop/ene/c_{}.jpg\".format(j),newImg)\n"
   ]
  },
  {
   "cell_type": "code",
   "execution_count": 21,
   "metadata": {},
   "outputs": [],
   "source": [
    "img = cv2.imread(\"C:/Users/ENES DORUK/Desktop/ene/1.jpg\", cv2.IMREAD_UNCHANGED)\n",
    "for i in range(1,5):\n",
    "    kernel = np.ones((i,i),np.uint8)\n",
    "    for j in range(1,5):\n",
    "        newImg = cv2.erode(img,kernel,iterations = j)\n",
    "        cv2.imwrite(\"C:/Users/ENES DORUK/Desktop/ene/z_{}.jpg\".format(j),newImg)\n",
    "\n",
    "        x = open(\"1.txt\",mode = 'r')\n",
    "        message = x.read()\n",
    "        f = open(\"C:/Users/ENES DORUK/Desktop/ene/z_{}.txt\".format(j),mode = 'w')\n",
    "        f.write(message)\n",
    "        f.close()\n",
    "        x.close()"
   ]
  },
  {
   "cell_type": "code",
   "execution_count": 11,
   "metadata": {},
   "outputs": [
    {
     "ename": "ValueError",
     "evalue": "I/O operation on closed file.",
     "output_type": "error",
     "traceback": [
      "\u001b[1;31m---------------------------------------------------------------------------\u001b[0m",
      "\u001b[1;31mValueError\u001b[0m                                Traceback (most recent call last)",
      "\u001b[1;32m<ipython-input-11-df534b98231b>\u001b[0m in \u001b[0;36m<module>\u001b[1;34m\u001b[0m\n\u001b[1;32m----> 1\u001b[1;33m \u001b[0mx\u001b[0m\u001b[1;33m.\u001b[0m\u001b[0mread\u001b[0m\u001b[1;33m(\u001b[0m\u001b[1;33m)\u001b[0m\u001b[1;33m\u001b[0m\u001b[1;33m\u001b[0m\u001b[0m\n\u001b[0m",
      "\u001b[1;31mValueError\u001b[0m: I/O operation on closed file."
     ]
    }
   ],
   "source": []
  },
  {
   "cell_type": "code",
   "execution_count": 29,
   "metadata": {},
   "outputs": [],
   "source": [
    " data = os.listdir(\"C:/Users/ENES DORUK/Desktop/ene/images\")\n",
    " labels = os.listdir(\"C:/Users/ENES DORUK/Desktop/ene/labels\")\n",
    "\n",
    " for o in range(len(data)):\n",
    "     img = cv2.imread(\"C:/Users/ENES DORUK/Desktop/ene/images/{}\".format(data[o]), cv2.IMREAD_UNCHANGED)\n",
    "     x = open(\"C:/Users/ENES DORUK/Desktop/ene/labels/{}\".format(labels[o]),mode = 'r')\n",
    "     message = x.read()\n",
    "     for j in range(1,5):\n",
    "         kernel = np.ones((j,j),np.uint8)\n",
    "         for k in range(1,5):\n",
    "             newImg = cv2.erode(img,kernel,iterations = k)\n",
    "             cv2.imwrite(\"C:/Users/ENES DORUK/Desktop/ene/erode/z{}_{}.jpg\".format(o,j),newImg)\n",
    "             f = open(\"C:/Users/ENES DORUK/Desktop/ene/erode/z{}_{}.txt\".format(o,j),mode = 'w')\n",
    "             f.write(message)\n",
    "             f.close()\n",
    "     for w in range(5,0,-1):\n",
    "         kernel = np.ones((w,w),np.uint8)\n",
    "         for b in range(1,5):\n",
    "             newImg = cv2.erode(img,kernel,iterations = b)\n",
    "             cv2.imwrite(\"C:/Users/ENES DORUK/Desktop/ene/erode/c{}_{}.jpg\".format(o,b),newImg)\n",
    "             f = open(\"C:/Users/ENES DORUK/Desktop/ene/erode/c{}_{}.txt\".format(o,b),mode = 'w')\n",
    "             f.write(message)\n",
    "             f.close()\n",
    "     for i in range(1,5):\n",
    "         kernel = np.ones((i,i),np.uint8)\n",
    "         for j in range(5,0,-1):\n",
    "             newImg = cv2.erode(img,kernel,iterations = j)\n",
    "             cv2.imwrite(\"C:/Users/ENES DORUK/Desktop/ene/erode/x{}_{}.jpg\".format(o,j),newImg)\n",
    "             f = open(\"C:/Users/ENES DORUK/Desktop/ene/erode/x{}_{}.txt\".format(o,j),mode = 'w')\n",
    "             f.write(message)\n",
    "             f.close()\n",
    "     x.close()"
   ]
  },
  {
   "cell_type": "code",
   "execution_count": null,
   "metadata": {},
   "outputs": [],
   "source": []
  }
 ],
 "metadata": {
  "kernelspec": {
   "display_name": "Python 3",
   "language": "python",
   "name": "python3"
  },
  "language_info": {
   "codemirror_mode": {
    "name": "ipython",
    "version": 3
   },
   "file_extension": ".py",
   "mimetype": "text/x-python",
   "name": "python",
   "nbconvert_exporter": "python",
   "pygments_lexer": "ipython3",
   "version": "3.7.4"
  }
 },
 "nbformat": 4,
 "nbformat_minor": 2
}
