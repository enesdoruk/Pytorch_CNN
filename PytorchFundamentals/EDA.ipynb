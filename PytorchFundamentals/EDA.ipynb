{
 "cells": [
  {
   "cell_type": "markdown",
   "metadata": {},
   "source": [
    "### Import Libraries"
   ]
  },
  {
   "cell_type": "code",
   "execution_count": null,
   "metadata": {},
   "outputs": [],
   "source": [
    "import os\n",
    "import glob\n",
    "from pathlib import Path\n",
    "import cv2\n",
    "import numpy as np\n",
    "import pandas as pd\n",
    "import matplotlib.pyplot as plt\n",
    "import hvplot.pandas"
   ]
  },
  {
   "cell_type": "markdown",
   "metadata": {},
   "source": [
    "### Images and annotations"
   ]
  },
  {
   "cell_type": "code",
   "execution_count": null,
   "metadata": {},
   "outputs": [],
   "source": [
    "data_dir = Path('../input/excerpt-from-openimages-2020-train')\n",
    "im_list = sorted(data_dir.glob('train_00_part/*.jpg'))\n",
    "mask_list = sorted(data_dir.glob('train-masks-f/*.png'))\n",
    "boxes_df = pd.read_csv(data_dir/'oidv6-train-annotations-bbox.csv')\n",
    "\n",
    "names_ = ['LabelName', 'Label']\n",
    "labels =  pd.read_csv(data_dir/'class-descriptions-boxable.csv', names=names_)\n",
    "\n",
    "im_ids = [im.stem for im in im_list]\n",
    "cols = ['ImageID', 'LabelName', 'XMin', 'YMin', 'XMax', 'YMax']\n",
    "boxes_df = boxes_df.loc[boxes_df.ImageID.isin(im_ids), cols] \\\n",
    "                   .merge(labels, how='left', on='LabelName')\n"
   ]
  },
  {
   "cell_type": "markdown",
   "metadata": {},
   "source": [
    "### Plot Images"
   ]
  },
  {
   "cell_type": "code",
   "execution_count": null,
   "metadata": {},
   "outputs": [],
   "source": [
    "cols, rows  = 3, 2\n",
    "plt.figure(figsize=(20,30))\n",
    "\n",
    "\n",
    "for i,im_file in enumerate(im_list[9:15], start=1):\n",
    "    df = boxes_df.query('ImageID == @im_file.stem').copy()\n",
    "    img = cv2.imread(str(im_file))\n",
    "    img = cv2.cvtColor(img, cv2.COLOR_BGR2RGB)\n",
    "    \n",
    "    # Add boxes\n",
    "    h0, w0 = img.shape[:2]\n",
    "    coords = ['XMin', 'YMin', 'XMax', 'YMax']\n",
    "    df[coords] = (df[coords].to_numpy() * np.tile([w0, h0], 2)).astype(int)\n",
    "\n",
    "    for tup in df.itertuples():\n",
    "        cv2.rectangle(img, (tup.XMin, tup.YMin), (tup.XMax, tup.YMax),\n",
    "                      color=(0,255,0), thickness=2)\n",
    "        cv2.putText(img, tup.Label, (tup.XMin+2, tup.YMax-2),\n",
    "                    fontFace=cv2.FONT_HERSHEY_DUPLEX,\n",
    "                    fontScale=1, color=(0,255,0), thickness=2)\n",
    "    \n",
    "    # Add segmentation masks\n",
    "    mask_files = [m for m in mask_list if im_file.stem in m.stem]    \n",
    "    mask_master = np.zeros_like(img)\n",
    "    np.random.seed(10)\n",
    "    for m in mask_files:\n",
    "        mask = cv2.imread(str(m))\n",
    "        mask = cv2.resize(mask, (w0,h0), interpolation = cv2.INTER_AREA)\n",
    "        color = np.random.choice([0,255], size=3)\n",
    "        mask[np.where((mask==[255, 255, 255]).all(axis=2))] = color\n",
    "        mask_master = cv2.add(mask_master, mask)\n",
    "    img = cv2.addWeighted(img,1, mask_master,0.5, 0)    \n",
    "    \n",
    "    plt.subplot(cols, rows, i)    \n",
    "    plt.axis('off')\n",
    "    plt.imshow(img)\n",
    "\n",
    "plt.show()"
   ]
  },
  {
   "cell_type": "markdown",
   "metadata": {},
   "source": [
    "### Detection"
   ]
  },
  {
   "cell_type": "code",
   "execution_count": null,
   "metadata": {},
   "outputs": [],
   "source": [
    "urls = pd.read_csv(data_dir/\"image_ids_and_rotation.csv\", \n",
    "                   usecols=['ImageID', 'OriginalURL'])\n",
    "\n",
    "classes = np.loadtxt(data_dir/\"openimages.names\", dtype=np.str, delimiter=\"\\n\")\n",
    "net = cv2.dnn.readNet(str(data_dir/\"yolov3-openimages.weights\"), str(data_dir/\"yolov3-openimages.cfg\"))\n",
    "\n",
    "layer_names = net.getLayerNames()\n",
    "outputlayers = [layer_names[i[0] - 1] for i in net.getUnconnectedOutLayers()]\n",
    "\n",
    "from skimage import io\n",
    "\n",
    "im_url = urls.loc[urls.ImageID==im_list[11].stem, 'OriginalURL'].squeeze()\n",
    "img = io.imread(im_url)\n",
    "\n",
    "height,width,channels = img.shape\n",
    "\n",
    "# Make a blob array and run it through the network\n",
    "blob = cv2.dnn.blobFromImage(img,0.00392,(416,416),(0,0,0),True,crop=False)\n",
    "net.setInput(blob)\n",
    "outs = net.forward(outputlayers)\n",
    "\n",
    "# Get confidence scores and objects\n",
    "class_ids=[]\n",
    "confidences=[]\n",
    "boxes=[]\n",
    "for out in outs:\n",
    "    for detection in out:\n",
    "        scores = detection[5:]\n",
    "        class_id = np.argmax(scores)\n",
    "        confidence = scores[class_id]\n",
    "        if confidence > 0.2:   # threshold\n",
    "            print(confidence)\n",
    "            center_x= int(detection[0]*width)\n",
    "            center_y= int(detection[1]*height)\n",
    "            w = int(detection[2]*width)\n",
    "            h = int(detection[3]*height)\n",
    "            x=int(center_x - w/2)\n",
    "            y=int(center_y - h/2)\n",
    "            boxes.append([x,y,w,h]) #put all rectangle areas\n",
    "            confidences.append(float(confidence)) #how confidence was that object detected and show that percentage\n",
    "            class_ids.append(class_id) #name of the object tha was detected\n",
    "            \n",
    "# Non-max suppression\n",
    "indexes = cv2.dnn.NMSBoxes(boxes,confidences,0.4,0.6)\n",
    "print(indexes, boxes, class_ids)"
   ]
  },
  {
   "cell_type": "markdown",
   "metadata": {},
   "source": [
    "### Plot Result Images"
   ]
  },
  {
   "cell_type": "code",
   "execution_count": null,
   "metadata": {},
   "outputs": [],
   "source": [
    "font = cv2.FONT_HERSHEY_DUPLEX\n",
    "for i in range(len(boxes)):\n",
    "#     if i in indexes:\n",
    "        x,y,w,h = boxes[i]\n",
    "        label = str(classes[class_ids[i]])\n",
    "        cv2.rectangle(img, (x,y), (x+w,y+h), (255,255,0), 2)\n",
    "        cv2.putText(img, label, (x,y+30), font, 2, (255,255,0), 2)\n",
    "        \n",
    "plt.clf()\n",
    "plt.figure(figsize=(10,15))\n",
    "plt.imshow(img)"
   ]
  },
  {
   "cell_type": "markdown",
   "metadata": {},
   "source": [
    "### Annotions"
   ]
  },
  {
   "cell_type": "code",
   "execution_count": null,
   "metadata": {},
   "outputs": [],
   "source": [
    "annotations = boxes_df.groupby('ImageID').agg(\n",
    "                        box_count=('LabelName', 'size'),\n",
    "                        box_unique=('LabelName', 'nunique')\n",
    "                        )\n"
   ]
  },
  {
   "cell_type": "markdown",
   "metadata": {},
   "source": [
    "### Graphs"
   ]
  },
  {
   "cell_type": "code",
   "execution_count": null,
   "metadata": {},
   "outputs": [],
   "source": [
    "all = annotations.hvplot.hist('box_count', width=600, bins=30)\n",
    "unique = annotations.hvplot.hist('box_unique', width=600)\n",
    "(all + unique).cols(1)"
   ]
  },
  {
   "cell_type": "code",
   "execution_count": null,
   "metadata": {},
   "outputs": [],
   "source": [
    "onepct = annotations.box_count.quantile(0.99)\n",
    "annotations.query('box_count < @onepct').box_count.value_counts(normalize=True) \\\n",
    "    .sort_index().hvplot.bar(xticks=list(range(0,60,10)), width=600,\n",
    "                            line_alpha=0, xlabel='objects per image',\n",
    "                            ylabel='fraction of images')"
   ]
  },
  {
   "cell_type": "code",
   "execution_count": null,
   "metadata": {},
   "outputs": [],
   "source": [
    "train_labels = boxes_df[['ImageID', 'LabelName']].merge(labels, how='left', on='LabelName')\n",
    "train_labels.Label.value_counts(normalize=True)[:45] \\\n",
    "            .hvplot.bar(width=650, height=350, rot=60, line_alpha=0,\n",
    "                        title='Label Frequencies',\n",
    "                        ylabel='fraction of all objects')"
   ]
  },
  {
   "cell_type": "code",
   "execution_count": null,
   "metadata": {},
   "outputs": [],
   "source": [
    "relations = pd.read_csv(data_dir/'oidv6-relationship-triplets.csv')\n",
    "relations = relations.merge(labels, how='left', left_on='LabelName1', right_on='LabelName') \\\n",
    "                     .merge(labels, how='left', left_on='LabelName2', right_on='LabelName',\n",
    "                            suffixes=['1', '2']) \\\n",
    "                     .loc[:, ['Label1', 'RelationshipLabel', 'Label2']] \\\n",
    "                     .dropna() \\\n",
    "                     .sort_values('RelationshipLabel') \\\n",
    "                     .reset_index(drop=True)"
   ]
  },
  {
   "cell_type": "code",
   "execution_count": null,
   "metadata": {},
   "outputs": [],
   "source": [
    "import networkx as nx\n",
    "\n",
    "kids = relations.query('Label1==\"Girl\" or Label1==\"Boy\"')\n",
    "G = nx.from_pandas_edgelist(kids, 'Label1', 'Label2', 'RelationshipLabel')\n",
    "\n",
    "\n",
    "graph_opts = dict(arrows=False,\n",
    "                  node_size=5,\n",
    "                  width=0.5,\n",
    "                  alpha=0.8,\n",
    "                  font_size=10,\n",
    "                  font_color='darkblue',\n",
    "                  edge_color='gray'\n",
    "                \n",
    "                 )\n",
    "\n",
    "fig= plt.figure(figsize=(12,10))\n",
    "nx.draw_spring(G, with_labels=True, **graph_opts)"
   ]
  }
 ],
 "metadata": {
  "kernelspec": {
   "display_name": "Python 3",
   "language": "python",
   "name": "python3"
  },
  "language_info": {
   "codemirror_mode": {
    "name": "ipython",
    "version": 3
   },
   "file_extension": ".py",
   "mimetype": "text/x-python",
   "name": "python",
   "nbconvert_exporter": "python",
   "pygments_lexer": "ipython3",
   "version": "3.7.4"
  }
 },
 "nbformat": 4,
 "nbformat_minor": 2
}
