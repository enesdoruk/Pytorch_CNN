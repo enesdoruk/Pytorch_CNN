{
 "cells": [
  {
   "cell_type": "code",
   "execution_count": 1,
   "metadata": {},
   "outputs": [],
   "source": [
    "import torch\n",
    "import torch.nn as nn\n",
    "import torchvision\n",
    "import torchvision.transforms as transforms\n"
   ]
  },
  {
   "cell_type": "code",
   "execution_count": 2,
   "metadata": {},
   "outputs": [],
   "source": [
    "device = torch.device('cuda' if torch.cuda.is_available() else 'cpu')\n"
   ]
  },
  {
   "cell_type": "code",
   "execution_count": 20,
   "metadata": {},
   "outputs": [],
   "source": [
    "input_size = 784\n",
    "hidden_size = 500\n",
    "num_classes = 10\n",
    "num_epochs = 5\n",
    "batch_size = 100\n",
    "learning_rate = 0.001"
   ]
  },
  {
   "cell_type": "code",
   "execution_count": 12,
   "metadata": {},
   "outputs": [],
   "source": [
    "train_dataset = torchvision.datasets.MNIST(root = '../data',\n",
    "                                         train = True,\n",
    "                                         transform = transforms.ToTensor(),\n",
    "                                         download = True)\n",
    "test_dataset = torchvision.datasets.MNIST(root = '../data',\n",
    "                                         train = False,\n",
    "                                         transform = transforms.ToTensor())\n"
   ]
  },
  {
   "cell_type": "code",
   "execution_count": 13,
   "metadata": {},
   "outputs": [],
   "source": [
    "train_loader = torch.utils.data.DataLoader(dataset= train_dataset,\n",
    "                                          batch_size = batch_size, \n",
    "                                          shuffle= True)\n",
    "\n",
    "test_loader = torch.utils.data.DataLoader(dataset= test_dataset,\n",
    "                                          batch_size = batch_size, \n",
    "                                          shuffle= False)"
   ]
  },
  {
   "cell_type": "code",
   "execution_count": 18,
   "metadata": {},
   "outputs": [],
   "source": [
    "class NeuralNet(nn.Module):\n",
    "    def __init__(self, input_size, hidden_size, num_classes):\n",
    "        super(NeuralNet, self).__init__()\n",
    "        self.fc1 = nn.Linear(input_size, hidden_size)\n",
    "        self.relu = nn.ReLU()\n",
    "        self.fc2 = nn.Linear(hidden_size, num_classes)\n",
    "        \n",
    "    def forward(self, x):\n",
    "        out = self.fc1(x)\n",
    "        out = self.relu(out)\n",
    "        out = self.fc2(out)\n",
    "        return out\n",
    "\n",
    "model = NeuralNet(input_size, hidden_size, num_classes).to(device)"
   ]
  },
  {
   "cell_type": "code",
   "execution_count": 21,
   "metadata": {},
   "outputs": [],
   "source": [
    "criterion =  nn.CrossEntropyLoss()\n",
    "\n",
    "optimizer = torch.optim.Adam(model.parameters(), lr = learning_rate)"
   ]
  },
  {
   "cell_type": "code",
   "execution_count": 23,
   "metadata": {},
   "outputs": [
    {
     "name": "stdout",
     "output_type": "stream",
     "text": [
      "EPoch  [1/5], step [100/600], loss: 0.2827\n",
      "EPoch  [1/5], step [200/600], loss: 0.3527\n",
      "EPoch  [1/5], step [300/600], loss: 0.1914\n",
      "EPoch  [1/5], step [400/600], loss: 0.1852\n",
      "EPoch  [1/5], step [500/600], loss: 0.1211\n",
      "EPoch  [1/5], step [600/600], loss: 0.0524\n",
      "EPoch  [2/5], step [100/600], loss: 0.0883\n",
      "EPoch  [2/5], step [200/600], loss: 0.2540\n",
      "EPoch  [2/5], step [300/600], loss: 0.1355\n",
      "EPoch  [2/5], step [400/600], loss: 0.1391\n",
      "EPoch  [2/5], step [500/600], loss: 0.0993\n",
      "EPoch  [2/5], step [600/600], loss: 0.0883\n",
      "EPoch  [3/5], step [100/600], loss: 0.0850\n",
      "EPoch  [3/5], step [200/600], loss: 0.0809\n",
      "EPoch  [3/5], step [300/600], loss: 0.0361\n",
      "EPoch  [3/5], step [400/600], loss: 0.1299\n",
      "EPoch  [3/5], step [500/600], loss: 0.1429\n",
      "EPoch  [3/5], step [600/600], loss: 0.0425\n",
      "EPoch  [4/5], step [100/600], loss: 0.0267\n",
      "EPoch  [4/5], step [200/600], loss: 0.0466\n",
      "EPoch  [4/5], step [300/600], loss: 0.0906\n",
      "EPoch  [4/5], step [400/600], loss: 0.0246\n",
      "EPoch  [4/5], step [500/600], loss: 0.0667\n",
      "EPoch  [4/5], step [600/600], loss: 0.0326\n",
      "EPoch  [5/5], step [100/600], loss: 0.0307\n",
      "EPoch  [5/5], step [200/600], loss: 0.0242\n",
      "EPoch  [5/5], step [300/600], loss: 0.0369\n",
      "EPoch  [5/5], step [400/600], loss: 0.0259\n",
      "EPoch  [5/5], step [500/600], loss: 0.1130\n",
      "EPoch  [5/5], step [600/600], loss: 0.0298\n"
     ]
    }
   ],
   "source": [
    "total_step = len(train_loader)\n",
    "\n",
    "for epoch in range(num_epochs):\n",
    "    for i, (images, labels) in enumerate(train_loader):\n",
    "        \n",
    "        images =  images.reshape(-1, 28*28).to(device)\n",
    "        labels = labels.to(device)\n",
    "        \n",
    "        outputs = model(images)\n",
    "        \n",
    "        loss = criterion(outputs, labels)\n",
    "        \n",
    "        optimizer.zero_grad()\n",
    "        loss.backward()\n",
    "        optimizer.step()\n",
    "        \n",
    "        if ( i+1) % 100 == 0:\n",
    "            print(\"EPoch  [{}/{}], step [{}/{}], loss: {:.4f}\".format(epoch+1, num_epochs, i+1, \n",
    "                                                                     total_step, loss.item()))"
   ]
  },
  {
   "cell_type": "code",
   "execution_count": 26,
   "metadata": {},
   "outputs": [
    {
     "name": "stdout",
     "output_type": "stream",
     "text": [
      "accuracy of 1000 test images 97.82 %\n"
     ]
    }
   ],
   "source": [
    "with torch.no_grad():\n",
    "    correct = 0 \n",
    "    total = 0 \n",
    "    \n",
    "    for images, labels in test_loader:\n",
    "        images = images.reshape(-1, 28*28).to(device)\n",
    "        labels = labels.to(device)\n",
    "        outputs = model(images)\n",
    "        _, predicted = torch.max(outputs.data, 1)\n",
    "        \n",
    "        total += labels.size(0)\n",
    "        correct += (predicted == labels).sum().item()\n",
    "        \n",
    "    print('accuracy of 1000 test images {} %'.format(100 * correct /total))\n",
    "    \n",
    "torch.save(model.state_dict(), 'model.ckpt')"
   ]
  },
  {
   "cell_type": "code",
   "execution_count": null,
   "metadata": {},
   "outputs": [],
   "source": []
  }
 ],
 "metadata": {
  "kernelspec": {
   "display_name": "Python 3",
   "language": "python",
   "name": "python3"
  },
  "language_info": {
   "codemirror_mode": {
    "name": "ipython",
    "version": 3
   },
   "file_extension": ".py",
   "mimetype": "text/x-python",
   "name": "python",
   "nbconvert_exporter": "python",
   "pygments_lexer": "ipython3",
   "version": "3.7.4"
  }
 },
 "nbformat": 4,
 "nbformat_minor": 2
}
