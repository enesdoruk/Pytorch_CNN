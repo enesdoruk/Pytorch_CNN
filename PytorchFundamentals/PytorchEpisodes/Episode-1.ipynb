{
 "cells": [
  {
   "cell_type": "markdown",
   "metadata": {},
   "source": [
    "### First Neural Network"
   ]
  },
  {
   "cell_type": "markdown",
   "metadata": {},
   "source": [
    "- Data Preparation = The get_data function prepares the tensors containing input and output data.\n",
    "- Creating learnable Parameters = The get_weights function provides us with tensors containing random values that we will optimize to solve our problem\n",
    "- Network model = The simple_network function produces the output for the input data applying a linear rule multiplying weights with input data and adding the bias term\n",
    "- Loss = The loss_fn function provides information about how good model is\n",
    "- Optimizer = The optimize function helps us in adjusting random weights created initially to help the model calculate target values more accurately"
   ]
  },
  {
   "cell_type": "code",
   "execution_count": null,
   "metadata": {},
   "outputs": [],
   "source": [
    "x, y = get_data()\n",
    "w,b = get_weights()\n",
    "\n",
    "for i in range(500):\n",
    "    y_pred = simple_network(x)\n",
    "    loss = loss_fn(y, y_pred)\n",
    "\n",
    "if i % 50 == 0:\n",
    "    print(loss)\n",
    "    \n",
    "optimize(learning_rate)"
   ]
  },
  {
   "cell_type": "markdown",
   "metadata": {},
   "source": [
    "### Data Preparation"
   ]
  },
  {
   "cell_type": "markdown",
   "metadata": {},
   "source": [
    "Tensors are similar to numpy array and they can also be used on GPUs which provide increased performance.\n",
    "\n",
    "- Scalar(0 D tensosrs)\n",
    "- Vector(1 D tensors)\n",
    "- Matrix(2 D tensors)\n",
    "- 3 D tensors\n",
    "- 5 D tensors \n",
    "- Tensors on GPUs"
   ]
  },
  {
   "cell_type": "markdown",
   "metadata": {},
   "source": [
    "### Scalar"
   ]
  },
  {
   "cell_type": "markdown",
   "metadata": {},
   "source": [
    "A tensor containing one element is scalar"
   ]
  },
  {
   "cell_type": "code",
   "execution_count": 2,
   "metadata": {},
   "outputs": [
    {
     "data": {
      "text/plain": [
       "torch.Size([10])"
      ]
     },
     "execution_count": 2,
     "metadata": {},
     "output_type": "execute_result"
    }
   ],
   "source": [
    "import torch\n",
    "x = torch.rand(10)\n",
    "x.size()\n"
   ]
  },
  {
   "cell_type": "markdown",
   "metadata": {},
   "source": [
    "### Vector"
   ]
  },
  {
   "cell_type": "markdown",
   "metadata": {},
   "source": [
    "simply array of elements"
   ]
  },
  {
   "cell_type": "code",
   "execution_count": 3,
   "metadata": {},
   "outputs": [
    {
     "data": {
      "text/plain": [
       "torch.Size([6])"
      ]
     },
     "execution_count": 3,
     "metadata": {},
     "output_type": "execute_result"
    }
   ],
   "source": [
    "temp = torch.FloatTensor([23,24,25,26,27,23.0])\n",
    "temp.size()"
   ]
  },
  {
   "cell_type": "markdown",
   "metadata": {},
   "source": [
    "### Matrix"
   ]
  },
  {
   "cell_type": "markdown",
   "metadata": {},
   "source": [
    "Most of the structured data is represented in the form of tables or matrices"
   ]
  },
  {
   "cell_type": "code",
   "execution_count": null,
   "metadata": {},
   "outputs": [],
   "source": [
    "boston_tensor = torch.from_numpy(boston.data)\n",
    "boston_tensor.size()"
   ]
  },
  {
   "cell_type": "markdown",
   "metadata": {},
   "source": [
    "### 3 D Tensor"
   ]
  },
  {
   "cell_type": "markdown",
   "metadata": {},
   "source": [
    "3 d tensors are used to represent data-like images "
   ]
  },
  {
   "cell_type": "code",
   "execution_count": null,
   "metadata": {},
   "outputs": [],
   "source": [
    "from PIL import Image \n",
    "\n",
    "panda = np.array(Image.open('asda.jpg').resize(224,224,224))\n",
    "\n",
    "panda_tensor = torch.from_numpy(panda)\n",
    "\n",
    "panda_tensor.size()\n",
    "\n",
    "plt.imshow()"
   ]
  },
  {
   "cell_type": "markdown",
   "metadata": {},
   "source": [
    "### 4 d Tensor"
   ]
  },
  {
   "cell_type": "markdown",
   "metadata": {},
   "source": [
    "one common examples for four dimensional tensor types is a batch of images"
   ]
  },
  {
   "cell_type": "code",
   "execution_count": null,
   "metadata": {},
   "outputs": [],
   "source": [
    "cats = glob(data_path + '*.jpg')\n",
    "cat_imgs = np.array([np.array(Image.open(cat).resize((224,224))) for cat in cats[:64]])\n",
    "\n",
    "cat_imgs = cat_imgs.reshape(-1,224,224,3)\n",
    "\n",
    "cat_tensors = torch.from_numpy(cat_imgs)\n"
   ]
  },
  {
   "cell_type": "markdown",
   "metadata": {},
   "source": [
    "### Tensors On GPU"
   ]
  },
  {
   "cell_type": "code",
   "execution_count": 4,
   "metadata": {},
   "outputs": [
    {
     "name": "stdout",
     "output_type": "stream",
     "text": [
      "sure   9.679110288619995\n"
     ]
    }
   ],
   "source": [
    "import time\n",
    "bas = time.time()\n",
    "a = torch.rand(10000,10000)\n",
    "b = torch.rand(10000,10000)\n",
    "\n",
    "a.matmul(b)\n",
    "\n",
    "bitis = time.time()\n",
    "\n",
    "print(\"sure  \", bitis - bas)"
   ]
  },
  {
   "cell_type": "code",
   "execution_count": 5,
   "metadata": {},
   "outputs": [
    {
     "name": "stdout",
     "output_type": "stream",
     "text": [
      "cuda sure    1.9986536502838135\n"
     ]
    }
   ],
   "source": [
    "bas2 = time.time()\n",
    "\n",
    "a = a.cuda()\n",
    "b = b.cuda()\n",
    "\n",
    "a.matmul(b)\n",
    "\n",
    "bitis2 = time.time()\n",
    "\n",
    "print(\"cuda sure   \", bitis2 - bas2 )"
   ]
  },
  {
   "cell_type": "markdown",
   "metadata": {},
   "source": [
    "### Variables"
   ]
  },
  {
   "cell_type": "code",
   "execution_count": null,
   "metadata": {},
   "outputs": [],
   "source": [
    "x = Variable(torch.ones(2,2), requires_grafd= True)\n",
    "y = x.mean()\n",
    "\n",
    "y.backward()\n",
    "\n",
    "x.grad\n",
    "x.grad_fn\n",
    "x.data\n",
    "y.grad_fn"
   ]
  },
  {
   "cell_type": "markdown",
   "metadata": {},
   "source": [
    "### Creaing Data"
   ]
  },
  {
   "cell_type": "code",
   "execution_count": null,
   "metadata": {},
   "outputs": [],
   "source": [
    "def get_data():\n",
    "    train_x = np.asarray([3,4,5,2,1,4,5,7,5,3,2,3,43,23,54,24,4,2342,42,13,24,5,3563,43,24,2,2,424,2])\n",
    "    train_y = np.asarray([234,424,25,435,65,4,42,63,545,3,534,463,5345,36,,235,76,45,352,56,3523,534,324,234,2,6554,24,534,34,23,43])\n",
    "    \n",
    "    dtype = torch.FloatTensor\n",
    "    \n",
    "    x = Variable(torch.from_numpy(train_x).type(dtype), required_grad = False).view(17,1)\n",
    "    y = Variable(torch.from_numpy(train_y).type(dtype), required_grad = False)\n",
    "    \n",
    "    return x,y"
   ]
  },
  {
   "cell_type": "markdown",
   "metadata": {},
   "source": [
    "### Creating Learnable Parameters"
   ]
  },
  {
   "cell_type": "code",
   "execution_count": null,
   "metadata": {},
   "outputs": [],
   "source": [
    "def get_weights():\n",
    "    w = Variable(torch.randn(1), requires_grad = True)\n",
    "    b = Variable(torch.randn(1), requires_grad = True)\n",
    "    \n",
    "    return w,b"
   ]
  },
  {
   "cell_type": "markdown",
   "metadata": {},
   "source": [
    "### Network Implemnetation"
   ]
  },
  {
   "cell_type": "code",
   "execution_count": null,
   "metadata": {},
   "outputs": [],
   "source": [
    "def simple_network():\n",
    "    y_pred = torch.matmul(x,w)+b\n",
    "    \n",
    "    return y_pred\n"
   ]
  },
  {
   "cell_type": "markdown",
   "metadata": {},
   "source": [
    "Pytorch also provides abstraction called layers which we will take care of most of these underlying initialization and operations associated with most of the common techniques."
   ]
  },
  {
   "cell_type": "code",
   "execution_count": null,
   "metadata": {},
   "outputs": [],
   "source": [
    "f = nn.Linear(17,1)"
   ]
  },
  {
   "cell_type": "markdown",
   "metadata": {},
   "source": [
    "### Loss"
   ]
  },
  {
   "cell_type": "code",
   "execution_count": null,
   "metadata": {},
   "outputs": [],
   "source": [
    "def loss_fn(y,y_pred):\n",
    "    loss = (y_pred - y ).pow(2).sum()\n",
    "    \n",
    "    for param in [w,b]:\n",
    "        if not param.grad is None:\n",
    "            param.grad.data.zero_()\n",
    "        loss.backward()\n",
    "        \n",
    "        return loss.data[0]"
   ]
  },
  {
   "cell_type": "markdown",
   "metadata": {},
   "source": [
    "Backward operation which calculates the gradients of our learnable parameters w and b"
   ]
  },
  {
   "cell_type": "markdown",
   "metadata": {},
   "source": [
    "### Optimize "
   ]
  },
  {
   "cell_type": "code",
   "execution_count": null,
   "metadata": {},
   "outputs": [],
   "source": [
    "def optimize(learning_rate):\n",
    "    w.data -= learning_rate * w.grad.data\n",
    "    b.data -= learning_rate * b.grad.data"
   ]
  },
  {
   "cell_type": "markdown",
   "metadata": {},
   "source": [
    "### Data Loading "
   ]
  },
  {
   "cell_type": "markdown",
   "metadata": {},
   "source": [
    "The custom class has to implement two main functions namely __len__(self), __getitem__(self, idx)"
   ]
  },
  {
   "cell_type": "code",
   "execution_count": null,
   "metadata": {},
   "outputs": [],
   "source": [
    "from torch.utils.data import Dataset\n",
    "\n",
    "class DogAndCat(Dataset):\n",
    "    def __init__(self,):\n",
    "        pass\n",
    "    def __len__(self):\n",
    "        pass\n",
    "    def __getitem__(self,idx):\n",
    "        pass"
   ]
  },
  {
   "cell_type": "code",
   "execution_count": null,
   "metadata": {},
   "outputs": [],
   "source": [
    "class DogAndCat(Dataset):\n",
    "    def __init__(self, root_dir, size=(224,224)):\n",
    "        self.files = glob(root_dir)\n",
    "        self.size = size\n",
    "        \n",
    "    def __len__(self):\n",
    "        return len(self.files)\n",
    "    \n",
    "    def __getitem__(self, idx):\n",
    "        img = np.asarray(Image.open(self.files[idx]).resize(self.size))\n",
    "        label = self.files[idx].split('/')[-2]\n",
    "        \n",
    "        return img, label"
   ]
  },
  {
   "cell_type": "code",
   "execution_count": null,
   "metadata": {},
   "outputs": [],
   "source": [
    "for image, label in dogsandcat:\n",
    "    pass\n",
    "\n",
    "for img, labels in dataloader:\n",
    "    pass"
   ]
  }
 ],
 "metadata": {
  "kernelspec": {
   "display_name": "Python 3",
   "language": "python",
   "name": "python3"
  },
  "language_info": {
   "codemirror_mode": {
    "name": "ipython",
    "version": 3
   },
   "file_extension": ".py",
   "mimetype": "text/x-python",
   "name": "python",
   "nbconvert_exporter": "python",
   "pygments_lexer": "ipython3",
   "version": "3.7.4"
  }
 },
 "nbformat": 4,
 "nbformat_minor": 2
}
