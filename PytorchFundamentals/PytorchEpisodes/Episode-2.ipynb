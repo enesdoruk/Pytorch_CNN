{
 "cells": [
  {
   "cell_type": "markdown",
   "metadata": {},
   "source": [
    "- Buıldıng data pıpelıne \n",
    "- Buıldıng a netwot k architecture\n",
    "- Evaluating architecture using loss\n",
    "- Optimizing network architecture"
   ]
  },
  {
   "cell_type": "markdown",
   "metadata": {},
   "source": [
    "### Layers"
   ]
  },
  {
   "cell_type": "code",
   "execution_count": null,
   "metadata": {},
   "outputs": [],
   "source": [
    "from torch.nn import Linear\n",
    "\n",
    "myLayer = Linear(in_features=10, out_features=5, bias=True)\n",
    "\n",
    "inp = Variable(torch.randn(1,10))\n",
    "my_layer = Linear(in_features=10, out_features=5, bias=True)\n",
    "\n",
    "my_layer(inp)\n",
    "my_layer.weight\n",
    "my_layer.bias\n",
    "\n",
    "mylayer1 = Linear(10,5)\n",
    "mylayer1 = Linear(5,2)\n"
   ]
  },
  {
   "cell_type": "markdown",
   "metadata": {},
   "source": [
    "### Non Linear Activations"
   ]
  },
  {
   "cell_type": "code",
   "execution_count": null,
   "metadata": {},
   "outputs": [],
   "source": [
    "sample_data = Variable(torch.Tensor([[1,2,-1,-1]]))\n",
    "\n",
    "myrelu = ReLU()\n",
    "\n",
    "myRelu(sample_data)"
   ]
  },
  {
   "cell_type": "markdown",
   "metadata": {},
   "source": [
    "### Building Deep Learning Algorithms"
   ]
  },
  {
   "cell_type": "code",
   "execution_count": null,
   "metadata": {},
   "outputs": [],
   "source": [
    "class MyFirstNetwork(nn.Module):\n",
    "    def __init__(self, input_size, hidden_size, output_size):\n",
    "        super(MyFirstNetwork,self).__init__()\n",
    "        self.layer1 = nn.Linear(input_size, hidden_size)\n",
    "        self.layer2 = nn.Linear(hidden_size, output_size)\n",
    "        \n",
    "    def __forward__(self, input):\n",
    "        out = self.layer1(input)\n",
    "        out = nn.ReLU(out)\n",
    "        out = self.layer2(out)\n",
    "        \n",
    "        return out "
   ]
  },
  {
   "cell_type": "markdown",
   "metadata": {},
   "source": [
    "init  method acts a constructor in python and super is used to pass on  arguments of the child class to the parent class"
   ]
  },
  {
   "cell_type": "markdown",
   "metadata": {},
   "source": [
    "### Loss Function"
   ]
  },
  {
   "cell_type": "markdown",
   "metadata": {},
   "source": [
    "- How good our network is at performing a particular task of regression classification and the next is optimizing the weight\n",
    "- The optimizer generally accepts a scalar value, so our loss function should generate a scalar value that has to be minimized during our training "
   ]
  },
  {
   "cell_type": "code",
   "execution_count": null,
   "metadata": {},
   "outputs": [],
   "source": [
    "loss = nn.MSELoss()\n",
    "input = Variable(torch.randn(3,5), requires_grad = True)\n",
    "target = Variable(torch.randn(3,5))\n",
    "\n",
    "output = loss(input, target)\n",
    "\n",
    "output.backward()"
   ]
  },
  {
   "cell_type": "code",
   "execution_count": null,
   "metadata": {},
   "outputs": [],
   "source": [
    "def cross_entropy( true_label, predictions):\n",
    "    if (true_label == 1):\n",
    "        return -log(prediction)\n",
    "    else:\n",
    "        return -log(1 - prediction)\n",
    "    \n"
   ]
  },
  {
   "cell_type": "code",
   "execution_count": null,
   "metadata": {},
   "outputs": [],
   "source": [
    "loss = nn.CrossEntropyLoss()\n",
    "input = Variable(torch.randn(3,5), requires_grad=True)\n",
    "target = Variable(torch.LongTensor(3).random_(5))\n",
    "output.backward()"
   ]
  },
  {
   "cell_type": "markdown",
   "metadata": {},
   "source": [
    "### Optimizer"
   ]
  },
  {
   "cell_type": "code",
   "execution_count": null,
   "metadata": {},
   "outputs": [],
   "source": [
    "optimizer = optim.SGD(model.parameters(), lr = 0.01)\n",
    "\n",
    "for input, target in dataset:\n",
    "    optimizer.zero_grad()\n",
    "    output = model(input)\n",
    "    loss = loss_fn(output, target)\n",
    "    loss.backward()\n",
    "    optimizer.step()"
   ]
  },
  {
   "cell_type": "markdown",
   "metadata": {},
   "source": [
    "### Image Classification"
   ]
  },
  {
   "cell_type": "code",
   "execution_count": null,
   "metadata": {},
   "outputs": [],
   "source": [
    "path = '../cahpter3/dogsandcats/'\n",
    "\n",
    "files = glob(os.path.join(path, '*/*.jpg'))\n",
    "\n",
    "no_of_images = len(files)\n",
    "\n",
    "shuffle = np.random.permutation(no_of_images)\n",
    "\n",
    "os.mkdir(os.path.join(path,'valid'))\n",
    "\n",
    "for t in ['train', 'valid']:\n",
    "    for folder in ['dog/', 'cat/']:\n",
    "        os.mkdir(os.path.join(path,t,folder))\n",
    "        \n",
    "for i in shuffle[:2000]:\n",
    "    folder = files[i].split('/')[-1].split('.')[0]\n",
    "    image = files[i].split('/')[-1]\n",
    "    os.rename(fioles[i], os.path.join(path, 'valid', folder, image))\n",
    "\n",
    "for i in shuffle[2000:]:\n",
    "    folder = files[i].split('/')[-1].split('.')[0]\n",
    "    image = files[i].split('/')[-1]\n",
    "    os.rename(fioles[i], os.path.join(path, 'train', folder, image))\n",
    "    "
   ]
  },
  {
   "cell_type": "markdown",
   "metadata": {},
   "source": [
    "### Loading data"
   ]
  },
  {
   "cell_type": "markdown",
   "metadata": {},
   "source": [
    "- resize \n",
    "- normalize \n",
    "- convert to tensor"
   ]
  },
  {
   "cell_type": "code",
   "execution_count": null,
   "metadata": {},
   "outputs": [],
   "source": [
    "simple_transform = transforms.Compose([transforms.Scale((224,224)).\n",
    "                                      transforms.ToTensor(),\n",
    "                                      transforms.Normalize([0.405, 0.456, 0.406], [0.229, 0..224, 0.225])])\n",
    "\n",
    "train = ImageFolder('dogsandcat/train/', simple_transform)\n",
    "valid = ImageFolder('dogsandcat/valid/', simple_transform)\n"
   ]
  },
  {
   "cell_type": "code",
   "execution_count": null,
   "metadata": {},
   "outputs": [],
   "source": [
    "def imshow(inp):\n",
    "    inp = inp.numpy().transpose((1,2,0))\n",
    "    mean = np.array([0.485, 0,456, 0,406])\n",
    "    std = np.array([0.229, 0.224, 0.225])\n",
    "    inp = std * inp + mean\n",
    "    inp = np.clip(inp, 0, 1)\n",
    "    plt.imshow(inp)\n",
    "\n",
    "imshow(train[50][0])"
   ]
  },
  {
   "cell_type": "code",
   "execution_count": null,
   "metadata": {},
   "outputs": [],
   "source": [
    "train_data_gen = torch.utils.data.DataLoader(train, batch_size= 64, num_workers=3)\n",
    "valid_data_gen = torch.utils.data.DataLoader(valid, batch_size= 64, num_workers=3)"
   ]
  },
  {
   "cell_type": "markdown",
   "metadata": {},
   "source": [
    "### Building Network"
   ]
  },
  {
   "cell_type": "code",
   "execution_count": null,
   "metadata": {},
   "outputs": [],
   "source": [
    "model_ft = models.resnet18(pretrrained = True)\n",
    "model_ftrs = model_ft.fc.in_features\n",
    "model_ft.fc = nn.Linear(num_ftrs, 2)\n",
    "\n",
    "is is_cuda:\n",
    "    model_ft = model_ft.cuda()"
   ]
  },
  {
   "cell_type": "markdown",
   "metadata": {},
   "source": [
    "### Training"
   ]
  },
  {
   "cell_type": "code",
   "execution_count": null,
   "metadata": {},
   "outputs": [],
   "source": [
    "learning_rate = 0.001\n",
    "criterion = nn.CrossEntropyLoss()\n",
    "optimizer_ft = optim.SGD(model_ft.parameters(), lr = 0.001, momentum = 0.9)\n",
    "exp_lr_schedular = lr_scheduler.StepLR(optimizer_ft, step_size=7, gamma = 0.1)"
   ]
  },
  {
   "cell_type": "code",
   "execution_count": null,
   "metadata": {},
   "outputs": [],
   "source": [
    "def train_model(model, criterion, optimizer, scheduler, num_epochs=25):\n",
    "    \n",
    "    since = time.time()\n",
    "    \n",
    "    for eopch in range(num_epochs):\n",
    "        \n",
    "        for phase in ['train', 'valid']:\n",
    "            if phase == 'train':\n",
    "                scheduler_step()\n",
    "                model.train(True)\n",
    "            else:\n",
    "                model.train(False)\n",
    "        \n",
    "            runnug_loss = 0\n",
    "            running_correct = 0\n",
    "            \n",
    "            for data in dataloaders[pahse]:\n",
    "                \n",
    "                inputs, labels = data\n",
    "                \n",
    "                if is_cuda:\n",
    "                    inputs = Variable(inputs.cuda())\n",
    "                    labels = Variable(labels.cuda())\n",
    "                else:\n",
    "                    inputs, labels = Variable(inputs), Variable(labels)\n",
    "                \n",
    "                optimizer.step()\n",
    "                \n",
    "                outputs = model(inputs)\n",
    "                _, preds = torch.max(outputs.data, 1)\n",
    "                loss = criterion(outputs, labels)\n",
    "                \n",
    "                if phase == 'train':\n",
    "                    loss.backward()\n",
    "                    optimizer.step()\n",
    "                    \n",
    "                running_loss += loss.data[0]\n",
    "                running_correct += torch.sum(preds == labels.data)\n",
    "                \n",
    "            epoch_loss = running_loss / dataset_sizes[phase]\n",
    "            epoch_acc = running_correct / dataset_sizes[phase]\n",
    "            \n",
    "            if phase == 'valid':\n",
    "                best_acc = epoch_acc\n",
    "                best_model_wght = model.state_dict()\n",
    "        \n",
    "        time_elapsed = time.time() - since \n",
    "        \n",
    "        model.load_state_dict(best_model_wght)\n",
    "        return model "
   ]
  },
  {
   "cell_type": "markdown",
   "metadata": {},
   "source": []
  },
  {
   "cell_type": "markdown",
   "metadata": {},
   "source": []
  },
  {
   "cell_type": "markdown",
   "metadata": {},
   "source": []
  },
  {
   "cell_type": "markdown",
   "metadata": {},
   "source": []
  },
  {
   "cell_type": "markdown",
   "metadata": {},
   "source": []
  },
  {
   "cell_type": "markdown",
   "metadata": {},
   "source": []
  },
  {
   "cell_type": "markdown",
   "metadata": {},
   "source": []
  },
  {
   "cell_type": "markdown",
   "metadata": {},
   "source": []
  },
  {
   "cell_type": "markdown",
   "metadata": {},
   "source": []
  }
 ],
 "metadata": {
  "kernelspec": {
   "display_name": "Python 3",
   "language": "python",
   "name": "python3"
  },
  "language_info": {
   "codemirror_mode": {
    "name": "ipython",
    "version": 3
   },
   "file_extension": ".py",
   "mimetype": "text/x-python",
   "name": "python",
   "nbconvert_exporter": "python",
   "pygments_lexer": "ipython3",
   "version": "3.7.4"
  }
 },
 "nbformat": 4,
 "nbformat_minor": 2
}
