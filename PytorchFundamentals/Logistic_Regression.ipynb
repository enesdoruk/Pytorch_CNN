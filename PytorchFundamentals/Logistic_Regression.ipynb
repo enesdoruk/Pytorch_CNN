{
 "cells": [
  {
   "cell_type": "code",
   "execution_count": 1,
   "metadata": {},
   "outputs": [],
   "source": [
    "import torch\n",
    "import torch.nn as nn\n",
    "import torchvision\n",
    "import torchvision.transforms as transforms\n"
   ]
  },
  {
   "cell_type": "code",
   "execution_count": 3,
   "metadata": {},
   "outputs": [],
   "source": [
    "input_size = 28 * 28    \n",
    "num_classes = 10\n",
    "num_epochs = 5\n",
    "batch_size = 100\n",
    "learning_rate = 0.001"
   ]
  },
  {
   "cell_type": "code",
   "execution_count": 5,
   "metadata": {},
   "outputs": [],
   "source": [
    "train_dataset = torchvision.datasets.MNIST(root='../data', \n",
    "                                           train=True, \n",
    "                                           transform=transforms.ToTensor(),\n",
    "                                           download=True)\n",
    "\n",
    "test_dataset = torchvision.datasets.MNIST(root='../data', \n",
    "                                          train=False, \n",
    "                                          transform=transforms.ToTensor())\n",
    "\n",
    "train_loader = torch.utils.data.DataLoader(dataset=train_dataset, \n",
    "                                           batch_size=batch_size, \n",
    "                                           shuffle=True)\n",
    "\n",
    "test_loader = torch.utils.data.DataLoader(dataset=test_dataset, \n",
    "                                          batch_size=batch_size, \n",
    "                                          shuffle=False)\n"
   ]
  },
  {
   "cell_type": "code",
   "execution_count": 6,
   "metadata": {},
   "outputs": [],
   "source": [
    "model = nn.Linear(input_size, num_classes)\n",
    "\n",
    "criterion = nn.CrossEntropyLoss()  \n",
    "optimizer = torch.optim.SGD(model.parameters(), lr=learning_rate) "
   ]
  },
  {
   "cell_type": "code",
   "execution_count": 7,
   "metadata": {},
   "outputs": [
    {
     "name": "stdout",
     "output_type": "stream",
     "text": [
      "Epoch [1/5], Step [100/600], Loss: 2.2390\n",
      "Epoch [1/5], Step [200/600], Loss: 2.0951\n",
      "Epoch [1/5], Step [300/600], Loss: 1.9912\n",
      "Epoch [1/5], Step [400/600], Loss: 1.9246\n",
      "Epoch [1/5], Step [500/600], Loss: 1.8237\n",
      "Epoch [1/5], Step [600/600], Loss: 1.7826\n",
      "Epoch [2/5], Step [100/600], Loss: 1.7404\n",
      "Epoch [2/5], Step [200/600], Loss: 1.6235\n",
      "Epoch [2/5], Step [300/600], Loss: 1.6321\n",
      "Epoch [2/5], Step [400/600], Loss: 1.6087\n",
      "Epoch [2/5], Step [500/600], Loss: 1.5252\n",
      "Epoch [2/5], Step [600/600], Loss: 1.4716\n",
      "Epoch [3/5], Step [100/600], Loss: 1.4864\n",
      "Epoch [3/5], Step [200/600], Loss: 1.3487\n",
      "Epoch [3/5], Step [300/600], Loss: 1.3028\n",
      "Epoch [3/5], Step [400/600], Loss: 1.3970\n",
      "Epoch [3/5], Step [500/600], Loss: 1.2694\n",
      "Epoch [3/5], Step [600/600], Loss: 1.2066\n",
      "Epoch [4/5], Step [100/600], Loss: 1.1963\n",
      "Epoch [4/5], Step [200/600], Loss: 1.2197\n",
      "Epoch [4/5], Step [300/600], Loss: 1.1860\n",
      "Epoch [4/5], Step [400/600], Loss: 1.1454\n",
      "Epoch [4/5], Step [500/600], Loss: 1.1400\n",
      "Epoch [4/5], Step [600/600], Loss: 1.0643\n",
      "Epoch [5/5], Step [100/600], Loss: 1.0157\n",
      "Epoch [5/5], Step [200/600], Loss: 1.0255\n",
      "Epoch [5/5], Step [300/600], Loss: 1.1078\n",
      "Epoch [5/5], Step [400/600], Loss: 1.0396\n",
      "Epoch [5/5], Step [500/600], Loss: 1.1367\n",
      "Epoch [5/5], Step [600/600], Loss: 1.0943\n"
     ]
    }
   ],
   "source": [
    "total_step = len(train_loader)\n",
    "for epoch in range(num_epochs):\n",
    "    for i, (images, labels) in enumerate(train_loader):\n",
    "        images = images.reshape(-1, input_size)\n",
    "        \n",
    "        outputs = model(images)\n",
    "        loss = criterion(outputs, labels)\n",
    "        \n",
    "        optimizer.zero_grad()\n",
    "        loss.backward()\n",
    "        optimizer.step()\n",
    "        \n",
    "        if (i+1) % 100 == 0:\n",
    "            print ('Epoch [{}/{}], Step [{}/{}], Loss: {:.4f}' \n",
    "                   .format(epoch+1, num_epochs, i+1, total_step, loss.item()))"
   ]
  },
  {
   "cell_type": "code",
   "execution_count": 8,
   "metadata": {},
   "outputs": [
    {
     "name": "stdout",
     "output_type": "stream",
     "text": [
      "Accuracy of the model on the 10000 test images: 82 %\n"
     ]
    }
   ],
   "source": [
    "with torch.no_grad():\n",
    "    correct = 0\n",
    "    total = 0\n",
    "    for images, labels in test_loader:\n",
    "        images = images.reshape(-1, input_size)\n",
    "        outputs = model(images)\n",
    "        _, predicted = torch.max(outputs.data, 1)\n",
    "        total += labels.size(0)\n",
    "        correct += (predicted == labels).sum()\n",
    "\n",
    "    print('Accuracy of the model on the 10000 test images: {} %'.format(100 * correct / total))\n",
    "\n",
    "torch.save(model.state_dict(), 'model.ckpt')"
   ]
  },
  {
   "cell_type": "code",
   "execution_count": null,
   "metadata": {},
   "outputs": [],
   "source": []
  }
 ],
 "metadata": {
  "kernelspec": {
   "display_name": "Python 3",
   "language": "python",
   "name": "python3"
  },
  "language_info": {
   "codemirror_mode": {
    "name": "ipython",
    "version": 3
   },
   "file_extension": ".py",
   "mimetype": "text/x-python",
   "name": "python",
   "nbconvert_exporter": "python",
   "pygments_lexer": "ipython3",
   "version": "3.7.4"
  }
 },
 "nbformat": 4,
 "nbformat_minor": 2
}
